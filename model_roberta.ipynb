{
 "cells": [
  {
   "cell_type": "markdown",
   "metadata": {},
   "source": [
    "# Using Hugging Face model RoBERTa\n",
    "RoBERTa(A Robustly Optimized BERT Pretraining Approach)"
   ]
  },
  {
   "cell_type": "markdown",
   "metadata": {},
   "source": [
    "### Import utilities"
   ]
  },
  {
   "cell_type": "code",
   "execution_count": 147,
   "metadata": {
    "colab": {
     "base_uri": "https://localhost:8080/"
    },
    "executionInfo": {
     "elapsed": 51,
     "status": "ok",
     "timestamp": 1743598907456,
     "user": {
      "displayName": "Yona PQT",
      "userId": "16550988622232765639"
     },
     "user_tz": -120
    },
    "id": "QnwdaAaxjd0y",
    "outputId": "25c38d44-e00a-4e7e-fb60-37b30da34e35"
   },
   "outputs": [
    {
     "name": "stderr",
     "output_type": "stream",
     "text": [
      "[nltk_data] Downloading package punkt_tab to\n",
      "[nltk_data]     /teamspace/studios/this_studio/nltk_data...\n",
      "[nltk_data]   Package punkt_tab is already up-to-date!\n",
      "[nltk_data] Downloading package stopwords to\n",
      "[nltk_data]     /teamspace/studios/this_studio/nltk_data...\n",
      "[nltk_data]   Package stopwords is already up-to-date!\n"
     ]
    }
   ],
   "source": [
    "import pandas as pd\n",
    "import matplotlib.pyplot as plt\n",
    "import seaborn as sns\n",
    "import numpy as np\n",
    "\n",
    "from tqdm.notebook import tqdm\n",
    "import re\n",
    "\n",
    "from collections import Counter\n",
    "\n",
    "import nltk\n",
    "from nltk.corpus import stopwords \n",
    "from nltk.tokenize import word_tokenize \n",
    "from collections import Counter \n",
    "\n",
    "nltk.download('punkt_tab')\n",
    "nltk.download('stopwords') \n",
    "\n",
    "plt.style.use('ggplot')"
   ]
  },
  {
   "cell_type": "markdown",
   "metadata": {},
   "source": [
    "## Load cleaned dataset"
   ]
  },
  {
   "cell_type": "code",
   "execution_count": 148,
   "metadata": {},
   "outputs": [
    {
     "data": {
      "text/html": [
       "<div>\n",
       "<style scoped>\n",
       "    .dataframe tbody tr th:only-of-type {\n",
       "        vertical-align: middle;\n",
       "    }\n",
       "\n",
       "    .dataframe tbody tr th {\n",
       "        vertical-align: top;\n",
       "    }\n",
       "\n",
       "    .dataframe thead th {\n",
       "        text-align: right;\n",
       "    }\n",
       "</style>\n",
       "<table border=\"1\" class=\"dataframe\">\n",
       "  <thead>\n",
       "    <tr style=\"text-align: right;\">\n",
       "      <th></th>\n",
       "      <th>reviewer_id</th>\n",
       "      <th>latitude</th>\n",
       "      <th>longitude</th>\n",
       "      <th>rating</th>\n",
       "      <th>review_date</th>\n",
       "      <th>City</th>\n",
       "      <th>State</th>\n",
       "      <th>clean_reviews</th>\n",
       "      <th>actual_sentiment</th>\n",
       "    </tr>\n",
       "  </thead>\n",
       "  <tbody>\n",
       "    <tr>\n",
       "      <th>0</th>\n",
       "      <td>1</td>\n",
       "      <td>30.460718</td>\n",
       "      <td>-97.792874</td>\n",
       "      <td>1</td>\n",
       "      <td>2025-01-05</td>\n",
       "      <td>Austin</td>\n",
       "      <td>TX 78750</td>\n",
       "      <td>Why does it look like someone spit on my food ...</td>\n",
       "      <td>negative</td>\n",
       "    </tr>\n",
       "    <tr>\n",
       "      <th>1</th>\n",
       "      <td>2</td>\n",
       "      <td>30.460718</td>\n",
       "      <td>-97.792874</td>\n",
       "      <td>4</td>\n",
       "      <td>2025-03-31</td>\n",
       "      <td>Austin</td>\n",
       "      <td>TX 78750</td>\n",
       "      <td>Itd McDonalds It is what it is as far as the f...</td>\n",
       "      <td>positive</td>\n",
       "    </tr>\n",
       "    <tr>\n",
       "      <th>2</th>\n",
       "      <td>3</td>\n",
       "      <td>30.460718</td>\n",
       "      <td>-97.792874</td>\n",
       "      <td>1</td>\n",
       "      <td>2025-03-31</td>\n",
       "      <td>Austin</td>\n",
       "      <td>TX 78750</td>\n",
       "      <td>Made a mobile order got to the speaker and che...</td>\n",
       "      <td>negative</td>\n",
       "    </tr>\n",
       "    <tr>\n",
       "      <th>3</th>\n",
       "      <td>4</td>\n",
       "      <td>30.460718</td>\n",
       "      <td>-97.792874</td>\n",
       "      <td>5</td>\n",
       "      <td>2025-03-05</td>\n",
       "      <td>Austin</td>\n",
       "      <td>TX 78750</td>\n",
       "      <td>My mc Crispy chicken sandwich was customer ser...</td>\n",
       "      <td>positive</td>\n",
       "    </tr>\n",
       "    <tr>\n",
       "      <th>4</th>\n",
       "      <td>5</td>\n",
       "      <td>30.460718</td>\n",
       "      <td>-97.792874</td>\n",
       "      <td>1</td>\n",
       "      <td>2025-02-05</td>\n",
       "      <td>Austin</td>\n",
       "      <td>TX 78750</td>\n",
       "      <td>I repeat my order times in the drive thru and ...</td>\n",
       "      <td>negative</td>\n",
       "    </tr>\n",
       "  </tbody>\n",
       "</table>\n",
       "</div>"
      ],
      "text/plain": [
       "   reviewer_id  latitude   longitude  rating review_date    City     State  \\\n",
       "0            1  30.460718 -97.792874       1  2025-01-05  Austin  TX 78750   \n",
       "1            2  30.460718 -97.792874       4  2025-03-31  Austin  TX 78750   \n",
       "2            3  30.460718 -97.792874       1  2025-03-31  Austin  TX 78750   \n",
       "3            4  30.460718 -97.792874       5  2025-03-05  Austin  TX 78750   \n",
       "4            5  30.460718 -97.792874       1  2025-02-05  Austin  TX 78750   \n",
       "\n",
       "                                       clean_reviews actual_sentiment  \n",
       "0  Why does it look like someone spit on my food ...         negative  \n",
       "1  Itd McDonalds It is what it is as far as the f...         positive  \n",
       "2  Made a mobile order got to the speaker and che...         negative  \n",
       "3  My mc Crispy chicken sandwich was customer ser...         positive  \n",
       "4  I repeat my order times in the drive thru and ...         negative  "
      ]
     },
     "execution_count": 148,
     "metadata": {},
     "output_type": "execute_result"
    }
   ],
   "source": [
    "data = pd.read_csv('/teamspace/studios/this_studio/PROJECT_FINAL/mcdonalds_reviews/cleaned_data.csv')\n",
    "data.head()"
   ]
  },
  {
   "cell_type": "markdown",
   "metadata": {
    "id": "5hD0Bp2nmb90"
   },
   "source": [
    "## Quick EDA"
   ]
  },
  {
   "cell_type": "code",
   "execution_count": 149,
   "metadata": {},
   "outputs": [],
   "source": [
    "df = data.copy()"
   ]
  },
  {
   "cell_type": "code",
   "execution_count": 150,
   "metadata": {},
   "outputs": [
    {
     "data": {
      "image/png": "[encoded data removed]",
      "text/plain": [
       "<Figure size 640x480 with 1 Axes>"
      ]
     },
     "metadata": {},
     "output_type": "display_data"
    }
   ],
   "source": [
    "# Sentiment distribution on the dataset\n",
    "sentiment_distribution = df['actual_sentiment'].value_counts()\n",
    "total = sentiment_distribution.sum()\n",
    "\n",
    "sns.barplot(x=sentiment_distribution.index, y=sentiment_distribution.values)\n",
    "\n",
    "for i, val in enumerate(sentiment_distribution.values):\n",
    "    plt.text(i, val + 1, f'{(val/total)*100:.1f}%', ha='center')\n",
    "\n",
    "plt.title(\"Sentiment Distribution\")\n",
    "plt.xlabel(\"Sentiment\")\n",
    "plt.ylabel(\"Count\")\n",
    "plt.show()\n"
   ]
  },
  {
   "cell_type": "markdown",
   "metadata": {
    "id": "PkeCTqfimGp4"
   },
   "source": [
    "# Load RoBERTa Pretrained Model\n",
    "\n",
    "    - Use a model trained of a large corpus of data.\n",
    "    - Transformer model accounts for the words but also the context related to other words.\n"
   ]
  },
  {
   "cell_type": "code",
   "execution_count": 131,
   "metadata": {},
   "outputs": [
    {
     "name": "stderr",
     "output_type": "stream",
     "text": [
      "huggingface/tokenizers: The current process just got forked, after parallelism has already been used. Disabling parallelism to avoid deadlocks...\n",
      "To disable this warning, you can either:\n",
      "\t- Avoid using `tokenizers` before the fork if possible\n",
      "\t- Explicitly set the environment variable TOKENIZERS_PARALLELISM=(true | false)\n",
      "Device set to use cpu\n"
     ]
    }
   ],
   "source": [
    "# Load model \n",
    "from transformers import pipeline, AutoTokenizer, AutoModelForSequenceClassification\n",
    "\n",
    "model_name = \"cardiffnlp/twitter-roberta-base-sentiment\"\n",
    "tokenizer = AutoTokenizer.from_pretrained(model_name)\n",
    "model = AutoModelForSequenceClassification.from_pretrained(model_name)\n",
    "\n",
    "# Create sentiment analysis pipeline\n",
    "model_roberta = pipeline(\"sentiment-analysis\", model=model,tokenizer=tokenizer)"
   ]
  },
  {
   "cell_type": "code",
   "execution_count": 200,
   "metadata": {},
   "outputs": [
    {
     "name": "stderr",
     "output_type": "stream",
     "text": [
      "huggingface/tokenizers: The current process just got forked, after parallelism has already been used. Disabling parallelism to avoid deadlocks...\n",
      "To disable this warning, you can either:\n",
      "\t- Avoid using `tokenizers` before the fork if possible\n",
      "\t- Explicitly set the environment variable TOKENIZERS_PARALLELISM=(true | false)\n",
      "Some weights of the model checkpoint at cardiffnlp/twitter-roberta-base-sentiment-latest were not used when initializing RobertaForSequenceClassification: ['roberta.pooler.dense.bias', 'roberta.pooler.dense.weight']\n",
      "- This IS expected if you are initializing RobertaForSequenceClassification from the checkpoint of a model trained on another task or with another architecture (e.g. initializing a BertForSequenceClassification model from a BertForPreTraining model).\n",
      "- This IS NOT expected if you are initializing RobertaForSequenceClassification from the checkpoint of a model that you expect to be exactly identical (initializing a BertForSequenceClassification model from a BertForSequenceClassification model).\n",
      "Device set to use cpu\n"
     ]
    },
    {
     "name": "stderr",
     "output_type": "stream",
     "text": [
      "Error during conversion: ChunkedEncodingError(ProtocolError('Response ended prematurely'))\n"
     ]
    }
   ],
   "source": [
    "# Load model directly\n",
    "from transformers import AutoTokenizer, AutoModelForSequenceClassification\n",
    "\n",
    "tokenizer = AutoTokenizer.from_pretrained(\"cardiffnlp/twitter-roberta-base-sentiment-latest\")\n",
    "model = AutoModelForSequenceClassification.from_pretrained(\"cardiffnlp/twitter-roberta-base-sentiment-latest\")\n",
    "\n",
    "model_roberta = pipeline(\"sentiment-analysis\", model=model,tokenizer=tokenizer)"
   ]
  },
  {
   "cell_type": "markdown",
   "metadata": {},
   "source": [
    "### Test model on Mcdonald's restaurants in New York"
   ]
  },
  {
   "cell_type": "code",
   "execution_count": 161,
   "metadata": {},
   "outputs": [],
   "source": [
    "# Use model to analyze reviews of Mcdonald's restaurants in New York\n",
    "df1 = df.copy()\n",
    "df_newyork=df1[df1[\"City\"]==\"New York\"]"
   ]
  },
  {
   "cell_type": "code",
   "execution_count": 162,
   "metadata": {},
   "outputs": [],
   "source": [
    "# Create dataframe of review_id, review, ratings, actual_review\n",
    "df_newyork=df_newyork[['reviewer_id','clean_reviews','actual_sentiment']]"
   ]
  },
  {
   "cell_type": "code",
   "execution_count": 163,
   "metadata": {},
   "outputs": [
    {
     "data": {
      "text/html": [
       "<div>\n",
       "<style scoped>\n",
       "    .dataframe tbody tr th:only-of-type {\n",
       "        vertical-align: middle;\n",
       "    }\n",
       "\n",
       "    .dataframe tbody tr th {\n",
       "        vertical-align: top;\n",
       "    }\n",
       "\n",
       "    .dataframe thead th {\n",
       "        text-align: right;\n",
       "    }\n",
       "</style>\n",
       "<table border=\"1\" class=\"dataframe\">\n",
       "  <thead>\n",
       "    <tr style=\"text-align: right;\">\n",
       "      <th></th>\n",
       "      <th>reviewer_id</th>\n",
       "      <th>clean_reviews</th>\n",
       "      <th>actual_sentiment</th>\n",
       "    </tr>\n",
       "  </thead>\n",
       "  <tbody>\n",
       "    <tr>\n",
       "      <th>2020</th>\n",
       "      <td>2969</td>\n",
       "      <td>Visited this location for breakfast The place ...</td>\n",
       "      <td>neutral</td>\n",
       "    </tr>\n",
       "    <tr>\n",
       "      <th>2021</th>\n",
       "      <td>2970</td>\n",
       "      <td>From cleanliness to freshness to the fast cust...</td>\n",
       "      <td>positive</td>\n",
       "    </tr>\n",
       "    <tr>\n",
       "      <th>2022</th>\n",
       "      <td>2971</td>\n",
       "      <td>McDonalds was great The food tastes like in Uk...</td>\n",
       "      <td>positive</td>\n",
       "    </tr>\n",
       "    <tr>\n",
       "      <th>2023</th>\n",
       "      <td>2972</td>\n",
       "      <td>Thursday at am I went in here to order A very ...</td>\n",
       "      <td>negative</td>\n",
       "    </tr>\n",
       "    <tr>\n",
       "      <th>2024</th>\n",
       "      <td>2973</td>\n",
       "      <td>It is a hr location when I arrived and tried t...</td>\n",
       "      <td>negative</td>\n",
       "    </tr>\n",
       "  </tbody>\n",
       "</table>\n",
       "</div>"
      ],
      "text/plain": [
       "      reviewer_id                                      clean_reviews  \\\n",
       "2020         2969  Visited this location for breakfast The place ...   \n",
       "2021         2970  From cleanliness to freshness to the fast cust...   \n",
       "2022         2971  McDonalds was great The food tastes like in Uk...   \n",
       "2023         2972  Thursday at am I went in here to order A very ...   \n",
       "2024         2973  It is a hr location when I arrived and tried t...   \n",
       "\n",
       "     actual_sentiment  \n",
       "2020          neutral  \n",
       "2021         positive  \n",
       "2022         positive  \n",
       "2023         negative  \n",
       "2024         negative  "
      ]
     },
     "execution_count": 163,
     "metadata": {},
     "output_type": "execute_result"
    }
   ],
   "source": [
    "df_newyork.head()"
   ]
  },
  {
   "cell_type": "code",
   "execution_count": 164,
   "metadata": {},
   "outputs": [
    {
     "data": {
      "application/vnd.jupyter.widget-view+json": {
       "model_id": "a072463dce334fd6b59c9891564b3115",
       "version_major": 2,
       "version_minor": 0
      },
      "text/plain": [
       "  0%|          | 0/2586 [00:00<?, ?it/s]"
      ]
     },
     "metadata": {},
     "output_type": "display_data"
    }
   ],
   "source": [
    "# Loop to each review in the dataset, the results are stored in a dictionary\n",
    "res = {}\n",
    "for i, row in tqdm(df_newyork.iterrows(), total=len(df_newyork)):\n",
    "    try:\n",
    "        text = row['clean_reviews']\n",
    "        myid = row['reviewer_id']\n",
    "\n",
    "        roberta_result = model_roberta(text)\n",
    "        roberta_result_model = {}\n",
    "\n",
    "        if isinstance(roberta_result, list) and len(roberta_result) > 0:\n",
    "            for key, value in roberta_result[0].items():\n",
    "                roberta_result_model[f'RoBERTa_{key}'] = value\n",
    "\n",
    "        res[myid] = roberta_result_model\n",
    "\n",
    "    except RuntimeError:\n",
    "        print(f'Runtime error for id {myid}')"
   ]
  },
  {
   "cell_type": "code",
   "execution_count": 180,
   "metadata": {},
   "outputs": [
    {
     "data": {
      "text/html": [
       "<div>\n",
       "<style scoped>\n",
       "    .dataframe tbody tr th:only-of-type {\n",
       "        vertical-align: middle;\n",
       "    }\n",
       "\n",
       "    .dataframe tbody tr th {\n",
       "        vertical-align: top;\n",
       "    }\n",
       "\n",
       "    .dataframe thead th {\n",
       "        text-align: right;\n",
       "    }\n",
       "</style>\n",
       "<table border=\"1\" class=\"dataframe\">\n",
       "  <thead>\n",
       "    <tr style=\"text-align: right;\">\n",
       "      <th></th>\n",
       "      <th>reviewer_id</th>\n",
       "      <th>pred_sentiment</th>\n",
       "      <th>RoBERTa_score</th>\n",
       "    </tr>\n",
       "  </thead>\n",
       "  <tbody>\n",
       "    <tr>\n",
       "      <th>0</th>\n",
       "      <td>2969</td>\n",
       "      <td>positive</td>\n",
       "      <td>0.875629</td>\n",
       "    </tr>\n",
       "    <tr>\n",
       "      <th>1</th>\n",
       "      <td>2970</td>\n",
       "      <td>positive</td>\n",
       "      <td>0.902563</td>\n",
       "    </tr>\n",
       "    <tr>\n",
       "      <th>2</th>\n",
       "      <td>2971</td>\n",
       "      <td>positive</td>\n",
       "      <td>0.982394</td>\n",
       "    </tr>\n",
       "    <tr>\n",
       "      <th>3</th>\n",
       "      <td>2972</td>\n",
       "      <td>negative</td>\n",
       "      <td>0.8198</td>\n",
       "    </tr>\n",
       "    <tr>\n",
       "      <th>4</th>\n",
       "      <td>2973</td>\n",
       "      <td>negative</td>\n",
       "      <td>0.829728</td>\n",
       "    </tr>\n",
       "  </tbody>\n",
       "</table>\n",
       "</div>"
      ],
      "text/plain": [
       "   reviewer_id pred_sentiment RoBERTa_score\n",
       "0         2969       positive      0.875629\n",
       "1         2970       positive      0.902563\n",
       "2         2971       positive      0.982394\n",
       "3         2972       negative        0.8198\n",
       "4         2973       negative      0.829728"
      ]
     },
     "execution_count": 180,
     "metadata": {},
     "output_type": "execute_result"
    }
   ],
   "source": [
    "# Convert the results in dictionary to pandas DataFrame\n",
    "results = pd.DataFrame(res).T\n",
    "results= results.reset_index().rename(columns={'index': 'reviewer_id','RoBERTa_label': 'pred_sentiment'})\n",
    "results.head()"
   ]
  },
  {
   "cell_type": "code",
   "execution_count": 181,
   "metadata": {},
   "outputs": [
    {
     "data": {
      "text/html": [
       "<div>\n",
       "<style scoped>\n",
       "    .dataframe tbody tr th:only-of-type {\n",
       "        vertical-align: middle;\n",
       "    }\n",
       "\n",
       "    .dataframe tbody tr th {\n",
       "        vertical-align: top;\n",
       "    }\n",
       "\n",
       "    .dataframe thead th {\n",
       "        text-align: right;\n",
       "    }\n",
       "</style>\n",
       "<table border=\"1\" class=\"dataframe\">\n",
       "  <thead>\n",
       "    <tr style=\"text-align: right;\">\n",
       "      <th></th>\n",
       "      <th>reviewer_id</th>\n",
       "      <th>pred_sentiment</th>\n",
       "      <th>RoBERTa_score</th>\n",
       "      <th>clean_reviews</th>\n",
       "      <th>actual_sentiment</th>\n",
       "    </tr>\n",
       "  </thead>\n",
       "  <tbody>\n",
       "    <tr>\n",
       "      <th>0</th>\n",
       "      <td>2969</td>\n",
       "      <td>positive</td>\n",
       "      <td>0.875629</td>\n",
       "      <td>Visited this location for breakfast The place ...</td>\n",
       "      <td>neutral</td>\n",
       "    </tr>\n",
       "    <tr>\n",
       "      <th>1</th>\n",
       "      <td>2970</td>\n",
       "      <td>positive</td>\n",
       "      <td>0.902563</td>\n",
       "      <td>From cleanliness to freshness to the fast cust...</td>\n",
       "      <td>positive</td>\n",
       "    </tr>\n",
       "    <tr>\n",
       "      <th>2</th>\n",
       "      <td>2971</td>\n",
       "      <td>positive</td>\n",
       "      <td>0.982394</td>\n",
       "      <td>McDonalds was great The food tastes like in Uk...</td>\n",
       "      <td>positive</td>\n",
       "    </tr>\n",
       "    <tr>\n",
       "      <th>3</th>\n",
       "      <td>2972</td>\n",
       "      <td>negative</td>\n",
       "      <td>0.8198</td>\n",
       "      <td>Thursday at am I went in here to order A very ...</td>\n",
       "      <td>negative</td>\n",
       "    </tr>\n",
       "    <tr>\n",
       "      <th>4</th>\n",
       "      <td>2973</td>\n",
       "      <td>negative</td>\n",
       "      <td>0.829728</td>\n",
       "      <td>It is a hr location when I arrived and tried t...</td>\n",
       "      <td>negative</td>\n",
       "    </tr>\n",
       "  </tbody>\n",
       "</table>\n",
       "</div>"
      ],
      "text/plain": [
       "   reviewer_id pred_sentiment RoBERTa_score  \\\n",
       "0         2969       positive      0.875629   \n",
       "1         2970       positive      0.902563   \n",
       "2         2971       positive      0.982394   \n",
       "3         2972       negative        0.8198   \n",
       "4         2973       negative      0.829728   \n",
       "\n",
       "                                       clean_reviews actual_sentiment  \n",
       "0  Visited this location for breakfast The place ...          neutral  \n",
       "1  From cleanliness to freshness to the fast cust...         positive  \n",
       "2  McDonalds was great The food tastes like in Uk...         positive  \n",
       "3  Thursday at am I went in here to order A very ...         negative  \n",
       "4  It is a hr location when I arrived and tried t...         negative  "
      ]
     },
     "execution_count": 181,
     "metadata": {},
     "output_type": "execute_result"
    }
   ],
   "source": [
    "# Merge the results dataframe to the main dataframe of Mcdonalds Newyork\n",
    "df_results = results.merge(df_newyork, how='left')\n",
    "df_results.head()"
   ]
  },
  {
   "cell_type": "code",
   "execution_count": 167,
   "metadata": {},
   "outputs": [],
   "source": [
    "# RoBERTa labeled results as: for negative review as LABEL_0, for neutral as LABEL_1, and for positive as LABEL_2\n",
    "# Below is to map  the Labels as negative , neutral and positive\n",
    "\n",
    "#def map_roberta_labels(label):\n",
    " #   if label == 'LABEL_0':\n",
    " #       return 'negative'\n",
    "  #  elif label == 'LABEL_1':\n",
    "   #     return 'neutral'\n",
    "    #elif label == 'LABEL_2':\n",
    "      #  return 'positive'\n",
    "    #else:\n",
    "     #   return 'unknown' \n",
    "\n",
    "# Apply the function to the 'RoBerta_label' column\n",
    "#results['predicted_sentiment'] = results['RoBERTa_label'].apply(map_roberta_labels)"
   ]
  },
  {
   "cell_type": "code",
   "execution_count": 168,
   "metadata": {},
   "outputs": [],
   "source": [
    "#df_results =results[['reviewer_id', 'clean_reviews', 'RoBERTa_label', 'predicted_sentiment']]"
   ]
  },
  {
   "cell_type": "code",
   "execution_count": 182,
   "metadata": {},
   "outputs": [
    {
     "data": {
      "text/plain": [
       "'It is a hr location when I arrived and tried to order use the restroom I was told the restroom was closed I said I will order right after my use of the restroom but they still rejected with rude attitude I already told them Im having shivers and can'"
      ]
     },
     "execution_count": 182,
     "metadata": {},
     "output_type": "execute_result"
    }
   ],
   "source": [
    "df_results['clean_reviews'][4]"
   ]
  },
  {
   "cell_type": "code",
   "execution_count": 183,
   "metadata": {},
   "outputs": [],
   "source": [
    "df_results['RoBERTa_score'] = df_results['RoBERTa_score'].astype(float)"
   ]
  },
  {
   "cell_type": "code",
   "execution_count": 184,
   "metadata": {},
   "outputs": [
    {
     "data": {
      "text/html": [
       "<div>\n",
       "<style scoped>\n",
       "    .dataframe tbody tr th:only-of-type {\n",
       "        vertical-align: middle;\n",
       "    }\n",
       "\n",
       "    .dataframe tbody tr th {\n",
       "        vertical-align: top;\n",
       "    }\n",
       "\n",
       "    .dataframe thead th {\n",
       "        text-align: right;\n",
       "    }\n",
       "</style>\n",
       "<table border=\"1\" class=\"dataframe\">\n",
       "  <thead>\n",
       "    <tr style=\"text-align: right;\">\n",
       "      <th></th>\n",
       "      <th>reviewer_id</th>\n",
       "      <th>pred_sentiment</th>\n",
       "      <th>RoBERTa_score</th>\n",
       "      <th>clean_reviews</th>\n",
       "      <th>actual_sentiment</th>\n",
       "    </tr>\n",
       "  </thead>\n",
       "  <tbody>\n",
       "    <tr>\n",
       "      <th>count</th>\n",
       "      <td>2586.000000</td>\n",
       "      <td>2586</td>\n",
       "      <td>2586.000000</td>\n",
       "      <td>2586</td>\n",
       "      <td>2586</td>\n",
       "    </tr>\n",
       "    <tr>\n",
       "      <th>unique</th>\n",
       "      <td>NaN</td>\n",
       "      <td>3</td>\n",
       "      <td>NaN</td>\n",
       "      <td>2586</td>\n",
       "      <td>3</td>\n",
       "    </tr>\n",
       "    <tr>\n",
       "      <th>top</th>\n",
       "      <td>NaN</td>\n",
       "      <td>negative</td>\n",
       "      <td>NaN</td>\n",
       "      <td>Having good experience on my recent visit crew...</td>\n",
       "      <td>positive</td>\n",
       "    </tr>\n",
       "    <tr>\n",
       "      <th>freq</th>\n",
       "      <td>NaN</td>\n",
       "      <td>1100</td>\n",
       "      <td>NaN</td>\n",
       "      <td>1</td>\n",
       "      <td>1194</td>\n",
       "    </tr>\n",
       "    <tr>\n",
       "      <th>mean</th>\n",
       "      <td>5127.601315</td>\n",
       "      <td>NaN</td>\n",
       "      <td>0.799297</td>\n",
       "      <td>NaN</td>\n",
       "      <td>NaN</td>\n",
       "    </tr>\n",
       "    <tr>\n",
       "      <th>std</th>\n",
       "      <td>1518.308440</td>\n",
       "      <td>NaN</td>\n",
       "      <td>0.161002</td>\n",
       "      <td>NaN</td>\n",
       "      <td>NaN</td>\n",
       "    </tr>\n",
       "    <tr>\n",
       "      <th>min</th>\n",
       "      <td>2969.000000</td>\n",
       "      <td>NaN</td>\n",
       "      <td>0.339242</td>\n",
       "      <td>NaN</td>\n",
       "      <td>NaN</td>\n",
       "    </tr>\n",
       "    <tr>\n",
       "      <th>25%</th>\n",
       "      <td>3682.250000</td>\n",
       "      <td>NaN</td>\n",
       "      <td>0.677687</td>\n",
       "      <td>NaN</td>\n",
       "      <td>NaN</td>\n",
       "    </tr>\n",
       "    <tr>\n",
       "      <th>50%</th>\n",
       "      <td>4755.500000</td>\n",
       "      <td>NaN</td>\n",
       "      <td>0.856386</td>\n",
       "      <td>NaN</td>\n",
       "      <td>NaN</td>\n",
       "    </tr>\n",
       "    <tr>\n",
       "      <th>75%</th>\n",
       "      <td>6353.750000</td>\n",
       "      <td>NaN</td>\n",
       "      <td>0.934841</td>\n",
       "      <td>NaN</td>\n",
       "      <td>NaN</td>\n",
       "    </tr>\n",
       "    <tr>\n",
       "      <th>max</th>\n",
       "      <td>10090.000000</td>\n",
       "      <td>NaN</td>\n",
       "      <td>0.990623</td>\n",
       "      <td>NaN</td>\n",
       "      <td>NaN</td>\n",
       "    </tr>\n",
       "  </tbody>\n",
       "</table>\n",
       "</div>"
      ],
      "text/plain": [
       "         reviewer_id pred_sentiment  RoBERTa_score  \\\n",
       "count    2586.000000           2586    2586.000000   \n",
       "unique           NaN              3            NaN   \n",
       "top              NaN       negative            NaN   \n",
       "freq             NaN           1100            NaN   \n",
       "mean     5127.601315            NaN       0.799297   \n",
       "std      1518.308440            NaN       0.161002   \n",
       "min      2969.000000            NaN       0.339242   \n",
       "25%      3682.250000            NaN       0.677687   \n",
       "50%      4755.500000            NaN       0.856386   \n",
       "75%      6353.750000            NaN       0.934841   \n",
       "max     10090.000000            NaN       0.990623   \n",
       "\n",
       "                                            clean_reviews actual_sentiment  \n",
       "count                                                2586             2586  \n",
       "unique                                               2586                3  \n",
       "top     Having good experience on my recent visit crew...         positive  \n",
       "freq                                                    1             1194  \n",
       "mean                                                  NaN              NaN  \n",
       "std                                                   NaN              NaN  \n",
       "min                                                   NaN              NaN  \n",
       "25%                                                   NaN              NaN  \n",
       "50%                                                   NaN              NaN  \n",
       "75%                                                   NaN              NaN  \n",
       "max                                                   NaN              NaN  "
      ]
     },
     "execution_count": 184,
     "metadata": {},
     "output_type": "execute_result"
    }
   ],
   "source": [
    "df_results.describe(include='all')"
   ]
  },
  {
   "cell_type": "code",
   "execution_count": 185,
   "metadata": {},
   "outputs": [
    {
     "name": "stdout",
     "output_type": "stream",
     "text": [
      "   RoBERTa_score pred_sentiment actual_sentiment\n",
      "0       0.875629       positive          neutral\n",
      "1       0.902563       positive         positive\n",
      "2       0.982394       positive         positive\n",
      "3       0.819800       negative         negative\n",
      "4       0.829728       negative         negative\n"
     ]
    }
   ],
   "source": [
    "print(df_results[['RoBERTa_score', 'pred_sentiment', 'actual_sentiment']].head(5))"
   ]
  },
  {
   "cell_type": "code",
   "execution_count": 186,
   "metadata": {},
   "outputs": [],
   "source": [
    "# Function to calculate accuracy\n",
    "def calculate_accuracy(predicted_labels, actual_labels):\n",
    "    correct = 0\n",
    "    total = 0\n",
    "    for pred, actual in zip(predicted_labels, actual_labels):\n",
    "        if pred is not None:  \n",
    "            total += 1\n",
    "            if pred.lower() == actual.lower():  \n",
    "                correct += 1\n",
    "    return correct / total if total > 0 else 0.0  "
   ]
  },
  {
   "cell_type": "code",
   "execution_count": 187,
   "metadata": {},
   "outputs": [
    {
     "name": "stdout",
     "output_type": "stream",
     "text": [
      "Model Accuracy: 0.70\n"
     ]
    }
   ],
   "source": [
    "# Calculate accuracy\n",
    "accuracy = calculate_accuracy(df_results['pred_sentiment'], df_results['actual_sentiment'])\n",
    "print(f\"Model Accuracy: {accuracy:.2f}\")"
   ]
  },
  {
   "cell_type": "code",
   "execution_count": 188,
   "metadata": {},
   "outputs": [],
   "source": [
    "df_results['correct_prediction'] = df_results.apply(\n",
    "    lambda row: True if row['pred_sentiment'] == row['actual_sentiment'] else False,\n",
    "    axis=1\n",
    ")"
   ]
  },
  {
   "cell_type": "code",
   "execution_count": 189,
   "metadata": {},
   "outputs": [
    {
     "data": {
      "image/png": "[encoded data removed]",
      "text/plain": [
       "<Figure size 600x400 with 1 Axes>"
      ]
     },
     "metadata": {},
     "output_type": "display_data"
    }
   ],
   "source": [
    "# Calculate percentage\n",
    "percentage = df_results['correct_prediction'].value_counts(normalize=True)\n",
    "\n",
    "# Plot\n",
    "plt.figure(figsize=(6, 4))\n",
    "bars = plt.bar(percentage.index.astype(str), percentage.values)\n",
    "\n",
    "# Add percentage labels on top of bars\n",
    "for bar in bars:\n",
    "    height = bar.get_height()\n",
    "    plt.text(\n",
    "        bar.get_x() + bar.get_width() / 2,\n",
    "        height,\n",
    "        f'{height:.2%}',\n",
    "        ha='center', va='bottom', fontsize=12\n",
    "    )\n",
    "\n",
    "plt.xlabel('Correct Prediction')\n",
    "plt.ylabel('percentage')\n",
    "plt.title('Correct vs Incorrect Predictions')\n",
    "plt.ylim(0, 1)\n",
    "plt.show()\n"
   ]
  },
  {
   "cell_type": "code",
   "execution_count": 190,
   "metadata": {},
   "outputs": [
    {
     "data": {
      "image/png": "[encoded data removed]",
      "text/plain": [
       "<Figure size 800x500 with 1 Axes>"
      ]
     },
     "metadata": {},
     "output_type": "display_data"
    }
   ],
   "source": [
    "# List of sentiments\n",
    "sentiment = ['positive', 'neutral','negative']\n",
    "\n",
    "# Calculation proportions\n",
    "total_predicted = df_results['pred_sentiment'].value_counts(normalize=True)\n",
    "total_actual = df_results['actual_sentiment'].value_counts(normalize=True)\n",
    "\n",
    "predicted_props = [total_predicted.get(label, 0) for label in sentiment]\n",
    "actual_props = [total_actual.get(label, 0) for label in sentiment]\n",
    "\n",
    "# Bar\n",
    "x = range(len(sentiment))\n",
    "bar_width = 0.35\n",
    "\n",
    "# Plot\n",
    "plt.figure(figsize=(8, 5))\n",
    "bars1 = plt.bar([i - bar_width/2 for i in x], predicted_props, width=bar_width, label='Predicted')\n",
    "bars2 = plt.bar([i + bar_width/2 for i in x], actual_props, width=bar_width, label='Actual')\n",
    "\n",
    "# Add percentage labels on top of bars\n",
    "for bars in [bars1, bars2]:\n",
    "    for bar in bars:\n",
    "        height = bar.get_height()\n",
    "        plt.text(\n",
    "            bar.get_x() + bar.get_width()/2,\n",
    "            height,\n",
    "            f'{height:.2%}',\n",
    "            ha='center', va='bottom', fontsize=10\n",
    "        )\n",
    "\n",
    "plt.xticks(ticks=x, labels=sentiment)\n",
    "plt.ylabel('Percentage')\n",
    "plt.ylim(0, 1)\n",
    "plt.title('Predicted vs Actual Sentiment')\n",
    "plt.legend()\n",
    "plt.tight_layout()\n",
    "plt.show()\n"
   ]
  },
  {
   "cell_type": "code",
   "execution_count": 191,
   "metadata": {},
   "outputs": [
    {
     "data": {
      "image/png": "[encoded data removed]",
      "text/plain": [
       "<Figure size 800x600 with 1 Axes>"
      ]
     },
     "metadata": {},
     "output_type": "display_data"
    }
   ],
   "source": [
    "df_results_filtered = df_results.copy()  \n",
    "\n",
    "# Group and compute percentages\n",
    "rates = df_results_filtered.groupby(['pred_sentiment', 'actual_sentiment']).size().unstack().fillna(0)\n",
    "rates = rates.div(rates.sum(axis=1), axis=0) * 100\n",
    "\n",
    "# Convert to long format\n",
    "rates_long = rates.reset_index().melt(id_vars='pred_sentiment', value_name='percentage', var_name='actual_sentiment')\n",
    "\n",
    "# Barplot\n",
    "plt.figure(figsize=(8, 6))\n",
    "ax = sns.barplot(data=rates_long, x='pred_sentiment', y='percentage', hue='actual_sentiment')\n",
    "\n",
    "# Add percentage labels on top of bars\n",
    "for p in ax.patches:\n",
    "    height = p.get_height()\n",
    "    if height > 0:\n",
    "        ax.annotate(f'{height:.1f}%', \n",
    "                    (p.get_x() + p.get_width() / 2., height), \n",
    "                    ha='center', va='bottom', fontsize=9)\n",
    "\n",
    "plt.title('Comparison: Predicted Sentiment vs Actual Review')\n",
    "plt.xlabel('Predicted Sentiment')\n",
    "plt.ylabel('Percentage')\n",
    "plt.legend(title='Actual Review', loc='lower center', bbox_to_anchor=(0.5, 1.1), ncol=3)\n",
    "plt.xticks(rotation=0)\n",
    "plt.tight_layout()\n",
    "plt.show()\n"
   ]
  },
  {
   "cell_type": "markdown",
   "metadata": {},
   "source": [
    "# Make predictions on the whole dataset"
   ]
  },
  {
   "cell_type": "code",
   "execution_count": 206,
   "metadata": {},
   "outputs": [],
   "source": [
    "df2 = df.copy(deep=True)\n",
    "df2 = df2.dropna(subset=['clean_reviews'])"
   ]
  },
  {
   "cell_type": "code",
   "execution_count": 207,
   "metadata": {},
   "outputs": [
    {
     "data": {
      "text/html": [
       "<div>\n",
       "<style scoped>\n",
       "    .dataframe tbody tr th:only-of-type {\n",
       "        vertical-align: middle;\n",
       "    }\n",
       "\n",
       "    .dataframe tbody tr th {\n",
       "        vertical-align: top;\n",
       "    }\n",
       "\n",
       "    .dataframe thead th {\n",
       "        text-align: right;\n",
       "    }\n",
       "</style>\n",
       "<table border=\"1\" class=\"dataframe\">\n",
       "  <thead>\n",
       "    <tr style=\"text-align: right;\">\n",
       "      <th></th>\n",
       "      <th>reviewer_id</th>\n",
       "      <th>clean_reviews</th>\n",
       "      <th>rating</th>\n",
       "      <th>actual_sentiment</th>\n",
       "    </tr>\n",
       "  </thead>\n",
       "  <tbody>\n",
       "    <tr>\n",
       "      <th>0</th>\n",
       "      <td>1</td>\n",
       "      <td>Why does it look like someone spit on my food ...</td>\n",
       "      <td>1</td>\n",
       "      <td>negative</td>\n",
       "    </tr>\n",
       "    <tr>\n",
       "      <th>1</th>\n",
       "      <td>2</td>\n",
       "      <td>Itd McDonalds It is what it is as far as the f...</td>\n",
       "      <td>4</td>\n",
       "      <td>positive</td>\n",
       "    </tr>\n",
       "    <tr>\n",
       "      <th>2</th>\n",
       "      <td>3</td>\n",
       "      <td>Made a mobile order got to the speaker and che...</td>\n",
       "      <td>1</td>\n",
       "      <td>negative</td>\n",
       "    </tr>\n",
       "    <tr>\n",
       "      <th>3</th>\n",
       "      <td>4</td>\n",
       "      <td>My mc Crispy chicken sandwich was customer ser...</td>\n",
       "      <td>5</td>\n",
       "      <td>positive</td>\n",
       "    </tr>\n",
       "    <tr>\n",
       "      <th>4</th>\n",
       "      <td>5</td>\n",
       "      <td>I repeat my order times in the drive thru and ...</td>\n",
       "      <td>1</td>\n",
       "      <td>negative</td>\n",
       "    </tr>\n",
       "  </tbody>\n",
       "</table>\n",
       "</div>"
      ],
      "text/plain": [
       "   reviewer_id                                      clean_reviews  rating  \\\n",
       "0            1  Why does it look like someone spit on my food ...       1   \n",
       "1            2  Itd McDonalds It is what it is as far as the f...       4   \n",
       "2            3  Made a mobile order got to the speaker and che...       1   \n",
       "3            4  My mc Crispy chicken sandwich was customer ser...       5   \n",
       "4            5  I repeat my order times in the drive thru and ...       1   \n",
       "\n",
       "  actual_sentiment  \n",
       "0         negative  \n",
       "1         positive  \n",
       "2         negative  \n",
       "3         positive  \n",
       "4         negative  "
      ]
     },
     "execution_count": 207,
     "metadata": {},
     "output_type": "execute_result"
    }
   ],
   "source": [
    "# Create dataframe of review_id, review, ratings, actual_review\n",
    "df_whole_dataset=df2[['reviewer_id','clean_reviews','rating','actual_sentiment']]\n",
    "df_whole_dataset.head()"
   ]
  },
  {
   "cell_type": "code",
   "execution_count": 209,
   "metadata": {},
   "outputs": [
    {
     "data": {
      "application/vnd.jupyter.widget-view+json": {
       "model_id": "10a481f02aaf49d89c8cd785b3a4897a",
       "version_major": 2,
       "version_minor": 0
      },
      "text/plain": [
       "  0%|          | 0/21814 [00:00<?, ?it/s]"
      ]
     },
     "metadata": {},
     "output_type": "display_data"
    },
    {
     "name": "stdout",
     "output_type": "stream",
     "text": [
      "Runtime error for id 17317\n",
      "Runtime error for id 23022\n",
      "Runtime error for id 23690\n"
     ]
    }
   ],
   "source": [
    "# Loop to each review in the dataset, the results are stored in a dictionary\n",
    "res = {}\n",
    "for i, row in tqdm(df_whole_dataset.iterrows(), total=len(df_whole_dataset)):\n",
    "    try:\n",
    "        text = row['clean_reviews']\n",
    "        myid = row['reviewer_id']\n",
    "\n",
    "        roberta_result = model_roberta(text)\n",
    "        roberta_result_model = {}\n",
    "\n",
    "        if isinstance(roberta_result, list) and len(roberta_result) > 0:\n",
    "            for key, value in roberta_result[0].items():\n",
    "                roberta_result_model[f'RoBERTa_{key}'] = value\n",
    "\n",
    "        res[myid] = roberta_result_model\n",
    "\n",
    "    except RuntimeError:\n",
    "        print(f'Runtime error for id {myid}')"
   ]
  },
  {
   "cell_type": "code",
   "execution_count": 210,
   "metadata": {},
   "outputs": [
    {
     "data": {
      "text/html": [
       "<div>\n",
       "<style scoped>\n",
       "    .dataframe tbody tr th:only-of-type {\n",
       "        vertical-align: middle;\n",
       "    }\n",
       "\n",
       "    .dataframe tbody tr th {\n",
       "        vertical-align: top;\n",
       "    }\n",
       "\n",
       "    .dataframe thead th {\n",
       "        text-align: right;\n",
       "    }\n",
       "</style>\n",
       "<table border=\"1\" class=\"dataframe\">\n",
       "  <thead>\n",
       "    <tr style=\"text-align: right;\">\n",
       "      <th></th>\n",
       "      <th>RoBERTa_label</th>\n",
       "      <th>RoBERTa_score</th>\n",
       "    </tr>\n",
       "  </thead>\n",
       "  <tbody>\n",
       "    <tr>\n",
       "      <th>1</th>\n",
       "      <td>negative</td>\n",
       "      <td>0.917278</td>\n",
       "    </tr>\n",
       "    <tr>\n",
       "      <th>2</th>\n",
       "      <td>positive</td>\n",
       "      <td>0.972301</td>\n",
       "    </tr>\n",
       "    <tr>\n",
       "      <th>3</th>\n",
       "      <td>negative</td>\n",
       "      <td>0.661857</td>\n",
       "    </tr>\n",
       "    <tr>\n",
       "      <th>4</th>\n",
       "      <td>positive</td>\n",
       "      <td>0.940411</td>\n",
       "    </tr>\n",
       "    <tr>\n",
       "      <th>5</th>\n",
       "      <td>negative</td>\n",
       "      <td>0.913123</td>\n",
       "    </tr>\n",
       "  </tbody>\n",
       "</table>\n",
       "</div>"
      ],
      "text/plain": [
       "  RoBERTa_label RoBERTa_score\n",
       "1      negative      0.917278\n",
       "2      positive      0.972301\n",
       "3      negative      0.661857\n",
       "4      positive      0.940411\n",
       "5      negative      0.913123"
      ]
     },
     "execution_count": 210,
     "metadata": {},
     "output_type": "execute_result"
    }
   ],
   "source": [
    "# Convert the results in dictionary to pandas DataFrame\n",
    "results_df = pd.DataFrame(res).T\n",
    "results_df.head()"
   ]
  },
  {
   "cell_type": "code",
   "execution_count": 211,
   "metadata": {},
   "outputs": [
    {
     "data": {
      "text/html": [
       "<div>\n",
       "<style scoped>\n",
       "    .dataframe tbody tr th:only-of-type {\n",
       "        vertical-align: middle;\n",
       "    }\n",
       "\n",
       "    .dataframe tbody tr th {\n",
       "        vertical-align: top;\n",
       "    }\n",
       "\n",
       "    .dataframe thead th {\n",
       "        text-align: right;\n",
       "    }\n",
       "</style>\n",
       "<table border=\"1\" class=\"dataframe\">\n",
       "  <thead>\n",
       "    <tr style=\"text-align: right;\">\n",
       "      <th></th>\n",
       "      <th>reviewer_id</th>\n",
       "      <th>pred_sentiment</th>\n",
       "      <th>RoBERTa_score</th>\n",
       "    </tr>\n",
       "  </thead>\n",
       "  <tbody>\n",
       "    <tr>\n",
       "      <th>0</th>\n",
       "      <td>1</td>\n",
       "      <td>negative</td>\n",
       "      <td>0.917278</td>\n",
       "    </tr>\n",
       "    <tr>\n",
       "      <th>1</th>\n",
       "      <td>2</td>\n",
       "      <td>positive</td>\n",
       "      <td>0.972301</td>\n",
       "    </tr>\n",
       "    <tr>\n",
       "      <th>2</th>\n",
       "      <td>3</td>\n",
       "      <td>negative</td>\n",
       "      <td>0.661857</td>\n",
       "    </tr>\n",
       "    <tr>\n",
       "      <th>3</th>\n",
       "      <td>4</td>\n",
       "      <td>positive</td>\n",
       "      <td>0.940411</td>\n",
       "    </tr>\n",
       "    <tr>\n",
       "      <th>4</th>\n",
       "      <td>5</td>\n",
       "      <td>negative</td>\n",
       "      <td>0.913123</td>\n",
       "    </tr>\n",
       "  </tbody>\n",
       "</table>\n",
       "</div>"
      ],
      "text/plain": [
       "   reviewer_id pred_sentiment RoBERTa_score\n",
       "0            1       negative      0.917278\n",
       "1            2       positive      0.972301\n",
       "2            3       negative      0.661857\n",
       "3            4       positive      0.940411\n",
       "4            5       negative      0.913123"
      ]
     },
     "execution_count": 211,
     "metadata": {},
     "output_type": "execute_result"
    }
   ],
   "source": [
    "results_df= results_df.reset_index().rename(columns={'index': 'reviewer_id','RoBERTa_label': 'pred_sentiment'})\n",
    "results_df.head()\n"
   ]
  },
  {
   "cell_type": "code",
   "execution_count": 212,
   "metadata": {},
   "outputs": [
    {
     "data": {
      "text/html": [
       "<div>\n",
       "<style scoped>\n",
       "    .dataframe tbody tr th:only-of-type {\n",
       "        vertical-align: middle;\n",
       "    }\n",
       "\n",
       "    .dataframe tbody tr th {\n",
       "        vertical-align: top;\n",
       "    }\n",
       "\n",
       "    .dataframe thead th {\n",
       "        text-align: right;\n",
       "    }\n",
       "</style>\n",
       "<table border=\"1\" class=\"dataframe\">\n",
       "  <thead>\n",
       "    <tr style=\"text-align: right;\">\n",
       "      <th></th>\n",
       "      <th>reviewer_id</th>\n",
       "      <th>pred_sentiment</th>\n",
       "      <th>RoBERTa_score</th>\n",
       "      <th>clean_reviews</th>\n",
       "      <th>rating</th>\n",
       "      <th>actual_sentiment</th>\n",
       "    </tr>\n",
       "  </thead>\n",
       "  <tbody>\n",
       "    <tr>\n",
       "      <th>0</th>\n",
       "      <td>1</td>\n",
       "      <td>negative</td>\n",
       "      <td>0.917278</td>\n",
       "      <td>Why does it look like someone spit on my food ...</td>\n",
       "      <td>1</td>\n",
       "      <td>negative</td>\n",
       "    </tr>\n",
       "    <tr>\n",
       "      <th>1</th>\n",
       "      <td>2</td>\n",
       "      <td>positive</td>\n",
       "      <td>0.972301</td>\n",
       "      <td>Itd McDonalds It is what it is as far as the f...</td>\n",
       "      <td>4</td>\n",
       "      <td>positive</td>\n",
       "    </tr>\n",
       "    <tr>\n",
       "      <th>2</th>\n",
       "      <td>3</td>\n",
       "      <td>negative</td>\n",
       "      <td>0.661857</td>\n",
       "      <td>Made a mobile order got to the speaker and che...</td>\n",
       "      <td>1</td>\n",
       "      <td>negative</td>\n",
       "    </tr>\n",
       "    <tr>\n",
       "      <th>3</th>\n",
       "      <td>4</td>\n",
       "      <td>positive</td>\n",
       "      <td>0.940411</td>\n",
       "      <td>My mc Crispy chicken sandwich was customer ser...</td>\n",
       "      <td>5</td>\n",
       "      <td>positive</td>\n",
       "    </tr>\n",
       "    <tr>\n",
       "      <th>4</th>\n",
       "      <td>5</td>\n",
       "      <td>negative</td>\n",
       "      <td>0.913123</td>\n",
       "      <td>I repeat my order times in the drive thru and ...</td>\n",
       "      <td>1</td>\n",
       "      <td>negative</td>\n",
       "    </tr>\n",
       "  </tbody>\n",
       "</table>\n",
       "</div>"
      ],
      "text/plain": [
       "   reviewer_id pred_sentiment RoBERTa_score  \\\n",
       "0            1       negative      0.917278   \n",
       "1            2       positive      0.972301   \n",
       "2            3       negative      0.661857   \n",
       "3            4       positive      0.940411   \n",
       "4            5       negative      0.913123   \n",
       "\n",
       "                                       clean_reviews  rating actual_sentiment  \n",
       "0  Why does it look like someone spit on my food ...       1         negative  \n",
       "1  Itd McDonalds It is what it is as far as the f...       4         positive  \n",
       "2  Made a mobile order got to the speaker and che...       1         negative  \n",
       "3  My mc Crispy chicken sandwich was customer ser...       5         positive  \n",
       "4  I repeat my order times in the drive thru and ...       1         negative  "
      ]
     },
     "execution_count": 212,
     "metadata": {},
     "output_type": "execute_result"
    }
   ],
   "source": [
    "# Merge the results dataframe to the main dataframe of Mcdonalds Newyork\n",
    "results_df = results_df.merge(df_whole_dataset, how='left')\n",
    "results_df.head()\n"
   ]
  },
  {
   "cell_type": "code",
   "execution_count": 214,
   "metadata": {},
   "outputs": [
    {
     "name": "stdout",
     "output_type": "stream",
     "text": [
      "  RoBERTa_score pred_sentiment actual_sentiment\n",
      "0      0.917278       negative         negative\n",
      "1      0.972301       positive         positive\n",
      "2      0.661857       negative         negative\n",
      "3      0.940411       positive         positive\n",
      "4      0.913123       negative         negative\n",
      "5      0.902684       negative         negative\n",
      "6      0.595205       negative         negative\n",
      "7      0.798427        neutral         negative\n",
      "8      0.889798       negative         negative\n",
      "9      0.960698       positive         positive\n"
     ]
    }
   ],
   "source": [
    "print(results_df[['RoBERTa_score', 'pred_sentiment', 'actual_sentiment']].head(10))"
   ]
  },
  {
   "cell_type": "code",
   "execution_count": 215,
   "metadata": {},
   "outputs": [
    {
     "name": "stdout",
     "output_type": "stream",
     "text": [
      "Model Accuracy: 0.74\n"
     ]
    }
   ],
   "source": [
    "# Calculate accuracy using the calculate_accuracy funtion\n",
    "accuracy = calculate_accuracy(results_df['pred_sentiment'], results_df['actual_sentiment'])\n",
    "print(f\"Model Accuracy: {accuracy:.2f}\")"
   ]
  },
  {
   "cell_type": "code",
   "execution_count": 216,
   "metadata": {},
   "outputs": [],
   "source": [
    "results_df['correct_prediction'] = results_df.apply(\n",
    "    lambda row: True if row['pred_sentiment'] == row['actual_sentiment'] else False,\n",
    "    axis=1\n",
    ")"
   ]
  },
  {
   "cell_type": "code",
   "execution_count": 217,
   "metadata": {},
   "outputs": [
    {
     "data": {
      "image/png": "[encoded data removed]",
      "text/plain": [
       "<Figure size 600x400 with 1 Axes>"
      ]
     },
     "metadata": {},
     "output_type": "display_data"
    }
   ],
   "source": [
    "# Calculate percentage\n",
    "percentage = results_df['correct_prediction'].value_counts(normalize=True)\n",
    "\n",
    "# Plot\n",
    "plt.figure(figsize=(6, 4))\n",
    "bars = plt.bar(percentage.index.astype(str), percentage.values)\n",
    "\n",
    "# Add percentage labels on top of bars\n",
    "for bar in bars:\n",
    "    height = bar.get_height()\n",
    "    plt.text(\n",
    "        bar.get_x() + bar.get_width() / 2,\n",
    "        height,\n",
    "        f'{height:.2%}',\n",
    "        ha='center', va='bottom', fontsize=12\n",
    "    )\n",
    "\n",
    "plt.xlabel('Correct Prediction')\n",
    "plt.ylabel('percentage')\n",
    "plt.title('Correct vs Incorrect Predictions')\n",
    "plt.ylim(0, 1)\n",
    "plt.show()\n"
   ]
  },
  {
   "cell_type": "code",
   "execution_count": 218,
   "metadata": {},
   "outputs": [
    {
     "data": {
      "image/png": "[encoded data removed]",
      "text/plain": [
       "<Figure size 800x500 with 1 Axes>"
      ]
     },
     "metadata": {},
     "output_type": "display_data"
    }
   ],
   "source": [
    "# List of sentiments\n",
    "sentiment = ['positive', 'neutral','negative']\n",
    "\n",
    "# Calculation proportions\n",
    "total_predicted = results_df['pred_sentiment'].value_counts(normalize=True)\n",
    "total_actual = results_df['actual_sentiment'].value_counts(normalize=True)\n",
    "\n",
    "predicted_props = [total_predicted.get(label, 0) for label in sentiment]\n",
    "actual_props = [total_actual.get(label, 0) for label in sentiment]\n",
    "\n",
    "# Bar\n",
    "x = range(len(sentiment))\n",
    "bar_width = 0.35\n",
    "\n",
    "# Plot\n",
    "plt.figure(figsize=(8, 5))\n",
    "bars1 = plt.bar([i - bar_width/2 for i in x], predicted_props, width=bar_width, label='Predicted')\n",
    "bars2 = plt.bar([i + bar_width/2 for i in x], actual_props, width=bar_width, label='Actual')\n",
    "\n",
    "# Add percentage labels on top of bars\n",
    "for bars in [bars1, bars2]:\n",
    "    for bar in bars:\n",
    "        height = bar.get_height()\n",
    "        plt.text(\n",
    "            bar.get_x() + bar.get_width()/2,\n",
    "            height,\n",
    "            f'{height:.2%}',\n",
    "            ha='center', va='bottom', fontsize=10\n",
    "        )\n",
    "\n",
    "plt.xticks(ticks=x, labels=sentiment)\n",
    "plt.ylabel('Percentage')\n",
    "plt.ylim(0, 1)\n",
    "plt.title('Predicted vs Actual Sentiment')\n",
    "plt.legend()\n",
    "plt.tight_layout()\n",
    "plt.show()\n"
   ]
  },
  {
   "cell_type": "code",
   "execution_count": 219,
   "metadata": {},
   "outputs": [
    {
     "data": {
      "image/png": "[encoded data removed]",
      "text/plain": [
       "<Figure size 800x600 with 1 Axes>"
      ]
     },
     "metadata": {},
     "output_type": "display_data"
    }
   ],
   "source": [
    "df_results_filtered = results_df.copy()  \n",
    "\n",
    "# Group and compute percentages\n",
    "rates = df_results_filtered.groupby(['pred_sentiment', 'actual_sentiment']).size().unstack().fillna(0)\n",
    "rates = rates.div(rates.sum(axis=1), axis=0) * 100\n",
    "\n",
    "# Convert to long format\n",
    "rates_long = rates.reset_index().melt(id_vars='pred_sentiment', value_name='percentage', var_name='actual_sentiment')\n",
    "\n",
    "# Barplot\n",
    "plt.figure(figsize=(8, 6))\n",
    "ax = sns.barplot(data=rates_long, x='pred_sentiment', y='percentage', hue='actual_sentiment')\n",
    "\n",
    "# Add percentage labels on top of bars\n",
    "for p in ax.patches:\n",
    "    height = p.get_height()\n",
    "    if height > 0:\n",
    "        ax.annotate(f'{height:.1f}%', \n",
    "                    (p.get_x() + p.get_width() / 2., height), \n",
    "                    ha='center', va='bottom', fontsize=9)\n",
    "\n",
    "plt.title('Comparison: Predicted Sentiment vs Actual Review')\n",
    "plt.xlabel('Predicted Sentiment')\n",
    "plt.ylabel('Percentage')\n",
    "plt.legend(title='Actual Review', loc='lower center', bbox_to_anchor=(0.5, 1.1), ncol=3)\n",
    "plt.xticks(rotation=0)\n",
    "plt.tight_layout()\n",
    "plt.show()\n"
   ]
  },
  {
   "cell_type": "code",
   "execution_count": 220,
   "metadata": {},
   "outputs": [],
   "source": [
    "# Merge results to the main dataset and remove the lines where errors occured on the prediction: \n",
    "df = df[~df['reviewer_id'].isin([17317,23022, 23690])]"
   ]
  },
  {
   "cell_type": "code",
   "execution_count": 221,
   "metadata": {},
   "outputs": [
    {
     "data": {
      "text/html": [
       "<div>\n",
       "<style scoped>\n",
       "    .dataframe tbody tr th:only-of-type {\n",
       "        vertical-align: middle;\n",
       "    }\n",
       "\n",
       "    .dataframe tbody tr th {\n",
       "        vertical-align: top;\n",
       "    }\n",
       "\n",
       "    .dataframe thead th {\n",
       "        text-align: right;\n",
       "    }\n",
       "</style>\n",
       "<table border=\"1\" class=\"dataframe\">\n",
       "  <thead>\n",
       "    <tr style=\"text-align: right;\">\n",
       "      <th></th>\n",
       "      <th>reviewer_id</th>\n",
       "      <th>pred_sentiment</th>\n",
       "      <th>RoBERTa_score</th>\n",
       "      <th>clean_reviews</th>\n",
       "      <th>rating</th>\n",
       "      <th>actual_sentiment</th>\n",
       "      <th>correct_prediction</th>\n",
       "      <th>latitude</th>\n",
       "      <th>longitude</th>\n",
       "      <th>review_date</th>\n",
       "      <th>City</th>\n",
       "      <th>State</th>\n",
       "    </tr>\n",
       "  </thead>\n",
       "  <tbody>\n",
       "    <tr>\n",
       "      <th>0</th>\n",
       "      <td>1</td>\n",
       "      <td>negative</td>\n",
       "      <td>0.917278</td>\n",
       "      <td>Why does it look like someone spit on my food ...</td>\n",
       "      <td>1</td>\n",
       "      <td>negative</td>\n",
       "      <td>True</td>\n",
       "      <td>30.460718</td>\n",
       "      <td>-97.792874</td>\n",
       "      <td>2025-01-05</td>\n",
       "      <td>Austin</td>\n",
       "      <td>TX 78750</td>\n",
       "    </tr>\n",
       "    <tr>\n",
       "      <th>1</th>\n",
       "      <td>2</td>\n",
       "      <td>positive</td>\n",
       "      <td>0.972301</td>\n",
       "      <td>Itd McDonalds It is what it is as far as the f...</td>\n",
       "      <td>4</td>\n",
       "      <td>positive</td>\n",
       "      <td>True</td>\n",
       "      <td>30.460718</td>\n",
       "      <td>-97.792874</td>\n",
       "      <td>2025-03-31</td>\n",
       "      <td>Austin</td>\n",
       "      <td>TX 78750</td>\n",
       "    </tr>\n",
       "    <tr>\n",
       "      <th>2</th>\n",
       "      <td>3</td>\n",
       "      <td>negative</td>\n",
       "      <td>0.661857</td>\n",
       "      <td>Made a mobile order got to the speaker and che...</td>\n",
       "      <td>1</td>\n",
       "      <td>negative</td>\n",
       "      <td>True</td>\n",
       "      <td>30.460718</td>\n",
       "      <td>-97.792874</td>\n",
       "      <td>2025-03-31</td>\n",
       "      <td>Austin</td>\n",
       "      <td>TX 78750</td>\n",
       "    </tr>\n",
       "    <tr>\n",
       "      <th>3</th>\n",
       "      <td>4</td>\n",
       "      <td>positive</td>\n",
       "      <td>0.940411</td>\n",
       "      <td>My mc Crispy chicken sandwich was customer ser...</td>\n",
       "      <td>5</td>\n",
       "      <td>positive</td>\n",
       "      <td>True</td>\n",
       "      <td>30.460718</td>\n",
       "      <td>-97.792874</td>\n",
       "      <td>2025-03-05</td>\n",
       "      <td>Austin</td>\n",
       "      <td>TX 78750</td>\n",
       "    </tr>\n",
       "    <tr>\n",
       "      <th>4</th>\n",
       "      <td>5</td>\n",
       "      <td>negative</td>\n",
       "      <td>0.913123</td>\n",
       "      <td>I repeat my order times in the drive thru and ...</td>\n",
       "      <td>1</td>\n",
       "      <td>negative</td>\n",
       "      <td>True</td>\n",
       "      <td>30.460718</td>\n",
       "      <td>-97.792874</td>\n",
       "      <td>2025-02-05</td>\n",
       "      <td>Austin</td>\n",
       "      <td>TX 78750</td>\n",
       "    </tr>\n",
       "  </tbody>\n",
       "</table>\n",
       "</div>"
      ],
      "text/plain": [
       "   reviewer_id pred_sentiment RoBERTa_score  \\\n",
       "0            1       negative      0.917278   \n",
       "1            2       positive      0.972301   \n",
       "2            3       negative      0.661857   \n",
       "3            4       positive      0.940411   \n",
       "4            5       negative      0.913123   \n",
       "\n",
       "                                       clean_reviews  rating actual_sentiment  \\\n",
       "0  Why does it look like someone spit on my food ...       1         negative   \n",
       "1  Itd McDonalds It is what it is as far as the f...       4         positive   \n",
       "2  Made a mobile order got to the speaker and che...       1         negative   \n",
       "3  My mc Crispy chicken sandwich was customer ser...       5         positive   \n",
       "4  I repeat my order times in the drive thru and ...       1         negative   \n",
       "\n",
       "   correct_prediction  latitude   longitude review_date    City     State  \n",
       "0                True  30.460718 -97.792874  2025-01-05  Austin  TX 78750  \n",
       "1                True  30.460718 -97.792874  2025-03-31  Austin  TX 78750  \n",
       "2                True  30.460718 -97.792874  2025-03-31  Austin  TX 78750  \n",
       "3                True  30.460718 -97.792874  2025-03-05  Austin  TX 78750  \n",
       "4                True  30.460718 -97.792874  2025-02-05  Austin  TX 78750  "
      ]
     },
     "execution_count": 221,
     "metadata": {},
     "output_type": "execute_result"
    }
   ],
   "source": [
    "# Merge results\n",
    "df_results_merged = df_results_filtered.merge(df, how='left')\n",
    "df_results_merged.head()\n"
   ]
  },
  {
   "cell_type": "code",
   "execution_count": 223,
   "metadata": {},
   "outputs": [],
   "source": [
    "df_results_merged.to_csv('/teamspace/studios/this_studio/PROJECT_FINAL/mcdonalds_reviews/model_roberta_results.csv')"
   ]
  },
  {
   "cell_type": "markdown",
   "metadata": {},
   "source": [
    "# Find common words"
   ]
  },
  {
   "cell_type": "code",
   "execution_count": 228,
   "metadata": {},
   "outputs": [
    {
     "data": {
      "text/html": [
       "<div>\n",
       "<style scoped>\n",
       "    .dataframe tbody tr th:only-of-type {\n",
       "        vertical-align: middle;\n",
       "    }\n",
       "\n",
       "    .dataframe tbody tr th {\n",
       "        vertical-align: top;\n",
       "    }\n",
       "\n",
       "    .dataframe thead th {\n",
       "        text-align: right;\n",
       "    }\n",
       "</style>\n",
       "<table border=\"1\" class=\"dataframe\">\n",
       "  <thead>\n",
       "    <tr style=\"text-align: right;\">\n",
       "      <th></th>\n",
       "      <th>reviewer_id</th>\n",
       "      <th>pred_sentiment</th>\n",
       "      <th>RoBERTa_score</th>\n",
       "      <th>clean_reviews</th>\n",
       "      <th>rating</th>\n",
       "      <th>actual_sentiment</th>\n",
       "      <th>correct_prediction</th>\n",
       "      <th>latitude</th>\n",
       "      <th>longitude</th>\n",
       "      <th>review_date</th>\n",
       "      <th>City</th>\n",
       "      <th>State</th>\n",
       "    </tr>\n",
       "  </thead>\n",
       "  <tbody>\n",
       "    <tr>\n",
       "      <th>0</th>\n",
       "      <td>1</td>\n",
       "      <td>negative</td>\n",
       "      <td>0.917278</td>\n",
       "      <td>Why does it look like someone spit on my food ...</td>\n",
       "      <td>1</td>\n",
       "      <td>negative</td>\n",
       "      <td>True</td>\n",
       "      <td>30.460718</td>\n",
       "      <td>-97.792874</td>\n",
       "      <td>2025-01-05</td>\n",
       "      <td>Austin</td>\n",
       "      <td>TX 78750</td>\n",
       "    </tr>\n",
       "    <tr>\n",
       "      <th>1</th>\n",
       "      <td>2</td>\n",
       "      <td>positive</td>\n",
       "      <td>0.972301</td>\n",
       "      <td>Itd McDonalds It is what it is as far as the f...</td>\n",
       "      <td>4</td>\n",
       "      <td>positive</td>\n",
       "      <td>True</td>\n",
       "      <td>30.460718</td>\n",
       "      <td>-97.792874</td>\n",
       "      <td>2025-03-31</td>\n",
       "      <td>Austin</td>\n",
       "      <td>TX 78750</td>\n",
       "    </tr>\n",
       "    <tr>\n",
       "      <th>2</th>\n",
       "      <td>3</td>\n",
       "      <td>negative</td>\n",
       "      <td>0.661857</td>\n",
       "      <td>Made a mobile order got to the speaker and che...</td>\n",
       "      <td>1</td>\n",
       "      <td>negative</td>\n",
       "      <td>True</td>\n",
       "      <td>30.460718</td>\n",
       "      <td>-97.792874</td>\n",
       "      <td>2025-03-31</td>\n",
       "      <td>Austin</td>\n",
       "      <td>TX 78750</td>\n",
       "    </tr>\n",
       "    <tr>\n",
       "      <th>3</th>\n",
       "      <td>4</td>\n",
       "      <td>positive</td>\n",
       "      <td>0.940411</td>\n",
       "      <td>My mc Crispy chicken sandwich was customer ser...</td>\n",
       "      <td>5</td>\n",
       "      <td>positive</td>\n",
       "      <td>True</td>\n",
       "      <td>30.460718</td>\n",
       "      <td>-97.792874</td>\n",
       "      <td>2025-03-05</td>\n",
       "      <td>Austin</td>\n",
       "      <td>TX 78750</td>\n",
       "    </tr>\n",
       "    <tr>\n",
       "      <th>4</th>\n",
       "      <td>5</td>\n",
       "      <td>negative</td>\n",
       "      <td>0.913123</td>\n",
       "      <td>I repeat my order times in the drive thru and ...</td>\n",
       "      <td>1</td>\n",
       "      <td>negative</td>\n",
       "      <td>True</td>\n",
       "      <td>30.460718</td>\n",
       "      <td>-97.792874</td>\n",
       "      <td>2025-02-05</td>\n",
       "      <td>Austin</td>\n",
       "      <td>TX 78750</td>\n",
       "    </tr>\n",
       "  </tbody>\n",
       "</table>\n",
       "</div>"
      ],
      "text/plain": [
       "   reviewer_id pred_sentiment  RoBERTa_score  \\\n",
       "0            1       negative       0.917278   \n",
       "1            2       positive       0.972301   \n",
       "2            3       negative       0.661857   \n",
       "3            4       positive       0.940411   \n",
       "4            5       negative       0.913123   \n",
       "\n",
       "                                       clean_reviews  rating actual_sentiment  \\\n",
       "0  Why does it look like someone spit on my food ...       1         negative   \n",
       "1  Itd McDonalds It is what it is as far as the f...       4         positive   \n",
       "2  Made a mobile order got to the speaker and che...       1         negative   \n",
       "3  My mc Crispy chicken sandwich was customer ser...       5         positive   \n",
       "4  I repeat my order times in the drive thru and ...       1         negative   \n",
       "\n",
       "   correct_prediction  latitude   longitude review_date    City     State  \n",
       "0                True  30.460718 -97.792874  2025-01-05  Austin  TX 78750  \n",
       "1                True  30.460718 -97.792874  2025-03-31  Austin  TX 78750  \n",
       "2                True  30.460718 -97.792874  2025-03-31  Austin  TX 78750  \n",
       "3                True  30.460718 -97.792874  2025-03-05  Austin  TX 78750  \n",
       "4                True  30.460718 -97.792874  2025-02-05  Austin  TX 78750  "
      ]
     },
     "execution_count": 228,
     "metadata": {},
     "output_type": "execute_result"
    }
   ],
   "source": [
    "# Load RoBERTa results\n",
    "df_roberta= pd.read_csv('/teamspace/studios/this_studio/PROJECT_FINAL/mcdonalds_reviews/model_roberta_results.csv').drop(columns='Unnamed: 0')\n",
    "df_roberta.head(5)"
   ]
  },
  {
   "cell_type": "code",
   "execution_count": 229,
   "metadata": {},
   "outputs": [
    {
     "name": "stdout",
     "output_type": "stream",
     "text": [
      "<class 'pandas.core.frame.DataFrame'>\n",
      "RangeIndex: 21811 entries, 0 to 21810\n",
      "Data columns (total 12 columns):\n",
      " #   Column              Non-Null Count  Dtype  \n",
      "---  ------              --------------  -----  \n",
      " 0   reviewer_id         21811 non-null  int64  \n",
      " 1   pred_sentiment      21811 non-null  object \n",
      " 2   RoBERTa_score       21811 non-null  float64\n",
      " 3   clean_reviews       21811 non-null  object \n",
      " 4   rating              21811 non-null  int64  \n",
      " 5   actual_sentiment    21811 non-null  object \n",
      " 6   correct_prediction  21811 non-null  bool   \n",
      " 7   latitude            21162 non-null  float64\n",
      " 8   longitude           21162 non-null  float64\n",
      " 9   review_date         21503 non-null  object \n",
      " 10  City                21162 non-null  object \n",
      " 11  State               21162 non-null  object \n",
      "dtypes: bool(1), float64(3), int64(2), object(6)\n",
      "memory usage: 1.9+ MB\n"
     ]
    }
   ],
   "source": [
    "df_roberta.info()"
   ]
  },
  {
   "cell_type": "code",
   "execution_count": 242,
   "metadata": {},
   "outputs": [],
   "source": [
    "# Remove Stopwords\n",
    "def clean_review(review):\n",
    "    if not isinstance(review, str): \n",
    "        return \"\"\n",
    "    stop_words = set(stopwords.words('english'))\n",
    "    stop_words.update(['mcdonalds', 'dont','go','got','even','good','one','always','get','like'])\n",
    "    review_tokens = word_tokenize(review)\n",
    "    filtered_review = ' '.join([word for word in review_tokens if word not in stop_words])\n",
    "\n",
    "    return filtered_review\n",
    "\n",
    "df_roberta['no_stop_words_review'] = df_roberta['clean_reviews'].str.lower().apply(clean_review)\n"
   ]
  },
  {
   "cell_type": "code",
   "execution_count": 243,
   "metadata": {},
   "outputs": [
    {
     "data": {
      "text/html": [
       "<style type=\"text/css\">\n",
       "#T_0d055_row0_col1 {\n",
       "  background-color: #08306b;\n",
       "  color: #f1f1f1;\n",
       "}\n",
       "#T_0d055_row1_col1, #T_0d055_row2_col1 {\n",
       "  background-color: #2b7bba;\n",
       "  color: #f1f1f1;\n",
       "}\n",
       "#T_0d055_row3_col1 {\n",
       "  background-color: #b0d2e7;\n",
       "  color: #000000;\n",
       "}\n",
       "#T_0d055_row4_col1, #T_0d055_row5_col1 {\n",
       "  background-color: #d1e2f3;\n",
       "  color: #000000;\n",
       "}\n",
       "#T_0d055_row6_col1 {\n",
       "  background-color: #d3e3f3;\n",
       "  color: #000000;\n",
       "}\n",
       "#T_0d055_row7_col1 {\n",
       "  background-color: #d7e6f5;\n",
       "  color: #000000;\n",
       "}\n",
       "#T_0d055_row8_col1 {\n",
       "  background-color: #e0ecf8;\n",
       "  color: #000000;\n",
       "}\n",
       "#T_0d055_row9_col1 {\n",
       "  background-color: #e3eef9;\n",
       "  color: #000000;\n",
       "}\n",
       "#T_0d055_row10_col1 {\n",
       "  background-color: #e5eff9;\n",
       "  color: #000000;\n",
       "}\n",
       "#T_0d055_row11_col1 {\n",
       "  background-color: #ebf3fb;\n",
       "  color: #000000;\n",
       "}\n",
       "#T_0d055_row12_col1 {\n",
       "  background-color: #ecf4fb;\n",
       "  color: #000000;\n",
       "}\n",
       "#T_0d055_row13_col1 {\n",
       "  background-color: #eef5fc;\n",
       "  color: #000000;\n",
       "}\n",
       "#T_0d055_row14_col1 {\n",
       "  background-color: #eff6fc;\n",
       "  color: #000000;\n",
       "}\n",
       "#T_0d055_row15_col1 {\n",
       "  background-color: #f5f9fe;\n",
       "  color: #000000;\n",
       "}\n",
       "#T_0d055_row16_col1, #T_0d055_row17_col1 {\n",
       "  background-color: #f5fafe;\n",
       "  color: #000000;\n",
       "}\n",
       "#T_0d055_row18_col1 {\n",
       "  background-color: #f6faff;\n",
       "  color: #000000;\n",
       "}\n",
       "#T_0d055_row19_col1 {\n",
       "  background-color: #f7fbff;\n",
       "  color: #000000;\n",
       "}\n",
       "</style>\n",
       "<table id=\"T_0d055\">\n",
       "  <thead>\n",
       "    <tr>\n",
       "      <th class=\"blank level0\" >&nbsp;</th>\n",
       "      <th id=\"T_0d055_level0_col0\" class=\"col_heading level0 col0\" >Common_words</th>\n",
       "      <th id=\"T_0d055_level0_col1\" class=\"col_heading level0 col1\" >count</th>\n",
       "    </tr>\n",
       "  </thead>\n",
       "  <tbody>\n",
       "    <tr>\n",
       "      <th id=\"T_0d055_level0_row0\" class=\"row_heading level0 row0\" >0</th>\n",
       "      <td id=\"T_0d055_row0_col0\" class=\"data row0 col0\" >food</td>\n",
       "      <td id=\"T_0d055_row0_col1\" class=\"data row0 col1\" >6078</td>\n",
       "    </tr>\n",
       "    <tr>\n",
       "      <th id=\"T_0d055_level0_row1\" class=\"row_heading level0 row1\" >1</th>\n",
       "      <td id=\"T_0d055_row1_col0\" class=\"data row1 col0\" >service</td>\n",
       "      <td id=\"T_0d055_row1_col1\" class=\"data row1 col1\" >4664</td>\n",
       "    </tr>\n",
       "    <tr>\n",
       "      <th id=\"T_0d055_level0_row2\" class=\"row_heading level0 row2\" >2</th>\n",
       "      <td id=\"T_0d055_row2_col0\" class=\"data row2 col0\" >order</td>\n",
       "      <td id=\"T_0d055_row2_col1\" class=\"data row2 col1\" >4662</td>\n",
       "    </tr>\n",
       "    <tr>\n",
       "      <th id=\"T_0d055_level0_row3\" class=\"row_heading level0 row3\" >3</th>\n",
       "      <td id=\"T_0d055_row3_col0\" class=\"data row3 col0\" >place</td>\n",
       "      <td id=\"T_0d055_row3_col1\" class=\"data row3 col1\" >2700</td>\n",
       "    </tr>\n",
       "    <tr>\n",
       "      <th id=\"T_0d055_level0_row4\" class=\"row_heading level0 row4\" >4</th>\n",
       "      <td id=\"T_0d055_row4_col0\" class=\"data row4 col0\" >drive</td>\n",
       "      <td id=\"T_0d055_row4_col1\" class=\"data row4 col1\" >2083</td>\n",
       "    </tr>\n",
       "    <tr>\n",
       "      <th id=\"T_0d055_level0_row5\" class=\"row_heading level0 row5\" >5</th>\n",
       "      <td id=\"T_0d055_row5_col0\" class=\"data row5 col0\" >fast</td>\n",
       "      <td id=\"T_0d055_row5_col1\" class=\"data row5 col1\" >2079</td>\n",
       "    </tr>\n",
       "    <tr>\n",
       "      <th id=\"T_0d055_level0_row6\" class=\"row_heading level0 row6\" >6</th>\n",
       "      <td id=\"T_0d055_row6_col0\" class=\"data row6 col0\" >time</td>\n",
       "      <td id=\"T_0d055_row6_col1\" class=\"data row6 col1\" >2035</td>\n",
       "    </tr>\n",
       "    <tr>\n",
       "      <th id=\"T_0d055_level0_row7\" class=\"row_heading level0 row7\" >7</th>\n",
       "      <td id=\"T_0d055_row7_col0\" class=\"data row7 col0\" >staff</td>\n",
       "      <td id=\"T_0d055_row7_col1\" class=\"data row7 col1\" >1922</td>\n",
       "    </tr>\n",
       "    <tr>\n",
       "      <th id=\"T_0d055_level0_row8\" class=\"row_heading level0 row8\" >8</th>\n",
       "      <td id=\"T_0d055_row8_col0\" class=\"data row8 col0\" >great</td>\n",
       "      <td id=\"T_0d055_row8_col1\" class=\"data row8 col1\" >1697</td>\n",
       "    </tr>\n",
       "    <tr>\n",
       "      <th id=\"T_0d055_level0_row9\" class=\"row_heading level0 row9\" >9</th>\n",
       "      <td id=\"T_0d055_row9_col0\" class=\"data row9 col0\" >people</td>\n",
       "      <td id=\"T_0d055_row9_col1\" class=\"data row9 col1\" >1627</td>\n",
       "    </tr>\n",
       "    <tr>\n",
       "      <th id=\"T_0d055_level0_row10\" class=\"row_heading level0 row10\" >10</th>\n",
       "      <td id=\"T_0d055_row10_col0\" class=\"data row10 col0\" >clean</td>\n",
       "      <td id=\"T_0d055_row10_col1\" class=\"data row10 col1\" >1582</td>\n",
       "    </tr>\n",
       "    <tr>\n",
       "      <th id=\"T_0d055_level0_row11\" class=\"row_heading level0 row11\" >11</th>\n",
       "      <td id=\"T_0d055_row11_col0\" class=\"data row11 col0\" >fries</td>\n",
       "      <td id=\"T_0d055_row11_col1\" class=\"data row11 col1\" >1432</td>\n",
       "    </tr>\n",
       "    <tr>\n",
       "      <th id=\"T_0d055_level0_row12\" class=\"row_heading level0 row12\" >12</th>\n",
       "      <td id=\"T_0d055_row12_col0\" class=\"data row12 col0\" >location</td>\n",
       "      <td id=\"T_0d055_row12_col1\" class=\"data row12 col1\" >1408</td>\n",
       "    </tr>\n",
       "    <tr>\n",
       "      <th id=\"T_0d055_level0_row13\" class=\"row_heading level0 row13\" >13</th>\n",
       "      <td id=\"T_0d055_row13_col0\" class=\"data row13 col0\" >minutes</td>\n",
       "      <td id=\"T_0d055_row13_col1\" class=\"data row13 col1\" >1365</td>\n",
       "    </tr>\n",
       "    <tr>\n",
       "      <th id=\"T_0d055_level0_row14\" class=\"row_heading level0 row14\" >14</th>\n",
       "      <td id=\"T_0d055_row14_col0\" class=\"data row14 col0\" >thru</td>\n",
       "      <td id=\"T_0d055_row14_col1\" class=\"data row14 col1\" >1327</td>\n",
       "    </tr>\n",
       "    <tr>\n",
       "      <th id=\"T_0d055_level0_row15\" class=\"row_heading level0 row15\" >15</th>\n",
       "      <td id=\"T_0d055_row15_col0\" class=\"data row15 col0\" >never</td>\n",
       "      <td id=\"T_0d055_row15_col1\" class=\"data row15 col1\" >1183</td>\n",
       "    </tr>\n",
       "    <tr>\n",
       "      <th id=\"T_0d055_level0_row16\" class=\"row_heading level0 row16\" >16</th>\n",
       "      <td id=\"T_0d055_row16_col0\" class=\"data row16 col0\" >customer</td>\n",
       "      <td id=\"T_0d055_row16_col1\" class=\"data row16 col1\" >1178</td>\n",
       "    </tr>\n",
       "    <tr>\n",
       "      <th id=\"T_0d055_level0_row17\" class=\"row_heading level0 row17\" >17</th>\n",
       "      <td id=\"T_0d055_row17_col0\" class=\"data row17 col0\" >nice</td>\n",
       "      <td id=\"T_0d055_row17_col1\" class=\"data row17 col1\" >1172</td>\n",
       "    </tr>\n",
       "    <tr>\n",
       "      <th id=\"T_0d055_level0_row18\" class=\"row_heading level0 row18\" >18</th>\n",
       "      <td id=\"T_0d055_row18_col0\" class=\"data row18 col0\" >manager</td>\n",
       "      <td id=\"T_0d055_row18_col1\" class=\"data row18 col1\" >1150</td>\n",
       "    </tr>\n",
       "    <tr>\n",
       "      <th id=\"T_0d055_level0_row19\" class=\"row_heading level0 row19\" >19</th>\n",
       "      <td id=\"T_0d055_row19_col0\" class=\"data row19 col0\" >ordered</td>\n",
       "      <td id=\"T_0d055_row19_col1\" class=\"data row19 col1\" >1124</td>\n",
       "    </tr>\n",
       "  </tbody>\n",
       "</table>\n"
      ],
      "text/plain": [
       "<pandas.io.formats.style.Styler at 0x7f4c9d76dc30>"
      ]
     },
     "execution_count": 243,
     "metadata": {},
     "output_type": "execute_result"
    }
   ],
   "source": [
    "df_roberta['word_list'] = df_roberta['no_stop_words_review'].apply(lambda x: str(x).split())\n",
    "top_words = Counter([item for sublist in df_roberta['word_list'] for item in sublist])\n",
    "top_words_df = pd.DataFrame(top_words.most_common(20), columns=['Common_words', 'count'])\n",
    "\n",
    "top_words_df.style.background_gradient(cmap='Blues')"
   ]
  },
  {
   "cell_type": "markdown",
   "metadata": {},
   "source": [
    "## Common words in negative and positive reviews"
   ]
  },
  {
   "cell_type": "code",
   "execution_count": 244,
   "metadata": {},
   "outputs": [],
   "source": [
    "positive = df_roberta[df_roberta['pred_sentiment'] == 'positive']\n",
    "negative = df_roberta[df_roberta['pred_sentiment'] == 'negative']"
   ]
  },
  {
   "cell_type": "code",
   "execution_count": 245,
   "metadata": {},
   "outputs": [
    {
     "data": {
      "text/html": [
       "<style type=\"text/css\">\n",
       "#T_d59b4_row0_col1 {\n",
       "  background-color: #00441b;\n",
       "  color: #f1f1f1;\n",
       "}\n",
       "#T_d59b4_row1_col1 {\n",
       "  background-color: #127c39;\n",
       "  color: #f1f1f1;\n",
       "}\n",
       "#T_d59b4_row2_col1 {\n",
       "  background-color: #92d28f;\n",
       "  color: #000000;\n",
       "}\n",
       "#T_d59b4_row3_col1 {\n",
       "  background-color: #a7dba0;\n",
       "  color: #000000;\n",
       "}\n",
       "#T_d59b4_row4_col1, #T_d59b4_row5_col1 {\n",
       "  background-color: #d1edcb;\n",
       "  color: #000000;\n",
       "}\n",
       "#T_d59b4_row6_col1 {\n",
       "  background-color: #eff9ec;\n",
       "  color: #000000;\n",
       "}\n",
       "#T_d59b4_row7_col1, #T_d59b4_row8_col1 {\n",
       "  background-color: #f2faf0;\n",
       "  color: #000000;\n",
       "}\n",
       "#T_d59b4_row9_col1 {\n",
       "  background-color: #f7fcf5;\n",
       "  color: #000000;\n",
       "}\n",
       "</style>\n",
       "<table id=\"T_d59b4\">\n",
       "  <thead>\n",
       "    <tr>\n",
       "      <th class=\"blank level0\" >&nbsp;</th>\n",
       "      <th id=\"T_d59b4_level0_col0\" class=\"col_heading level0 col0\" >Common_words</th>\n",
       "      <th id=\"T_d59b4_level0_col1\" class=\"col_heading level0 col1\" >count</th>\n",
       "    </tr>\n",
       "  </thead>\n",
       "  <tbody>\n",
       "    <tr>\n",
       "      <th id=\"T_d59b4_level0_row0\" class=\"row_heading level0 row0\" >0</th>\n",
       "      <td id=\"T_d59b4_row0_col0\" class=\"data row0 col0\" >food</td>\n",
       "      <td id=\"T_d59b4_row0_col1\" class=\"data row0 col1\" >2371</td>\n",
       "    </tr>\n",
       "    <tr>\n",
       "      <th id=\"T_d59b4_level0_row1\" class=\"row_heading level0 row1\" >1</th>\n",
       "      <td id=\"T_d59b4_row1_col0\" class=\"data row1 col0\" >service</td>\n",
       "      <td id=\"T_d59b4_row1_col1\" class=\"data row1 col1\" >2076</td>\n",
       "    </tr>\n",
       "    <tr>\n",
       "      <th id=\"T_d59b4_level0_row2\" class=\"row_heading level0 row2\" >2</th>\n",
       "      <td id=\"T_d59b4_row2_col0\" class=\"data row2 col0\" >great</td>\n",
       "      <td id=\"T_d59b4_row2_col1\" class=\"data row2 col1\" >1462</td>\n",
       "    </tr>\n",
       "    <tr>\n",
       "      <th id=\"T_d59b4_level0_row3\" class=\"row_heading level0 row3\" >3</th>\n",
       "      <td id=\"T_d59b4_row3_col0\" class=\"data row3 col0\" >fast</td>\n",
       "      <td id=\"T_d59b4_row3_col1\" class=\"data row3 col1\" >1367</td>\n",
       "    </tr>\n",
       "    <tr>\n",
       "      <th id=\"T_d59b4_level0_row4\" class=\"row_heading level0 row4\" >4</th>\n",
       "      <td id=\"T_d59b4_row4_col0\" class=\"data row4 col0\" >clean</td>\n",
       "      <td id=\"T_d59b4_row4_col1\" class=\"data row4 col1\" >1140</td>\n",
       "    </tr>\n",
       "    <tr>\n",
       "      <th id=\"T_d59b4_level0_row5\" class=\"row_heading level0 row5\" >5</th>\n",
       "      <td id=\"T_d59b4_row5_col0\" class=\"data row5 col0\" >place</td>\n",
       "      <td id=\"T_d59b4_row5_col1\" class=\"data row5 col1\" >1138</td>\n",
       "    </tr>\n",
       "    <tr>\n",
       "      <th id=\"T_d59b4_level0_row6\" class=\"row_heading level0 row6\" >6</th>\n",
       "      <td id=\"T_d59b4_row6_col0\" class=\"data row6 col0\" >nice</td>\n",
       "      <td id=\"T_d59b4_row6_col1\" class=\"data row6 col1\" >901</td>\n",
       "    </tr>\n",
       "    <tr>\n",
       "      <th id=\"T_d59b4_level0_row7\" class=\"row_heading level0 row7\" >7</th>\n",
       "      <td id=\"T_d59b4_row7_col0\" class=\"data row7 col0\" >staff</td>\n",
       "      <td id=\"T_d59b4_row7_col1\" class=\"data row7 col1\" >865</td>\n",
       "    </tr>\n",
       "    <tr>\n",
       "      <th id=\"T_d59b4_level0_row8\" class=\"row_heading level0 row8\" >8</th>\n",
       "      <td id=\"T_d59b4_row8_col0\" class=\"data row8 col0\" >friendly</td>\n",
       "      <td id=\"T_d59b4_row8_col1\" class=\"data row8 col1\" >861</td>\n",
       "    </tr>\n",
       "    <tr>\n",
       "      <th id=\"T_d59b4_level0_row9\" class=\"row_heading level0 row9\" >9</th>\n",
       "      <td id=\"T_d59b4_row9_col0\" class=\"data row9 col0\" >order</td>\n",
       "      <td id=\"T_d59b4_row9_col1\" class=\"data row9 col1\" >811</td>\n",
       "    </tr>\n",
       "  </tbody>\n",
       "</table>\n"
      ],
      "text/plain": [
       "<pandas.io.formats.style.Styler at 0x7f4c9d76e5f0>"
      ]
     },
     "execution_count": 245,
     "metadata": {},
     "output_type": "execute_result"
    }
   ],
   "source": [
    "# Word count in positive reviews\n",
    "top = Counter([item for sublist in df_roberta[df_roberta['pred_sentiment'] == 'positive']['word_list'] for item in sublist])\n",
    "positive_words = pd.DataFrame(top.most_common(10), columns=['Common_words', 'count'])\n",
    "positive_words.style.background_gradient(cmap='Greens')"
   ]
  },
  {
   "cell_type": "code",
   "execution_count": 246,
   "metadata": {},
   "outputs": [],
   "source": [
    "positive_words.to_csv('/teamspace/studios/this_studio/PROJECT_FINAL/mcdonalds_reviews/positive_words.csv')"
   ]
  },
  {
   "cell_type": "code",
   "execution_count": 247,
   "metadata": {},
   "outputs": [
    {
     "data": {
      "text/html": [
       "<style type=\"text/css\">\n",
       "#T_578e3_row0_col1 {\n",
       "  background-color: #67000d;\n",
       "  color: #f1f1f1;\n",
       "}\n",
       "#T_578e3_row1_col1 {\n",
       "  background-color: #960b13;\n",
       "  color: #f1f1f1;\n",
       "}\n",
       "#T_578e3_row2_col1 {\n",
       "  background-color: #f14331;\n",
       "  color: #f1f1f1;\n",
       "}\n",
       "#T_578e3_row3_col1 {\n",
       "  background-color: #fdd2bf;\n",
       "  color: #000000;\n",
       "}\n",
       "#T_578e3_row4_col1 {\n",
       "  background-color: #fdd3c1;\n",
       "  color: #000000;\n",
       "}\n",
       "#T_578e3_row5_col1 {\n",
       "  background-color: #fed9c9;\n",
       "  color: #000000;\n",
       "}\n",
       "#T_578e3_row6_col1 {\n",
       "  background-color: #fee8de;\n",
       "  color: #000000;\n",
       "}\n",
       "#T_578e3_row7_col1 {\n",
       "  background-color: #ffece3;\n",
       "  color: #000000;\n",
       "}\n",
       "#T_578e3_row8_col1 {\n",
       "  background-color: #fff4ef;\n",
       "  color: #000000;\n",
       "}\n",
       "#T_578e3_row9_col1 {\n",
       "  background-color: #fff5f0;\n",
       "  color: #000000;\n",
       "}\n",
       "</style>\n",
       "<table id=\"T_578e3\">\n",
       "  <thead>\n",
       "    <tr>\n",
       "      <th class=\"blank level0\" >&nbsp;</th>\n",
       "      <th id=\"T_578e3_level0_col0\" class=\"col_heading level0 col0\" >Common_words</th>\n",
       "      <th id=\"T_578e3_level0_col1\" class=\"col_heading level0 col1\" >count</th>\n",
       "    </tr>\n",
       "  </thead>\n",
       "  <tbody>\n",
       "    <tr>\n",
       "      <th id=\"T_578e3_level0_row0\" class=\"row_heading level0 row0\" >0</th>\n",
       "      <td id=\"T_578e3_row0_col0\" class=\"data row0 col0\" >order</td>\n",
       "      <td id=\"T_578e3_row0_col1\" class=\"data row0 col1\" >3282</td>\n",
       "    </tr>\n",
       "    <tr>\n",
       "      <th id=\"T_578e3_level0_row1\" class=\"row_heading level0 row1\" >1</th>\n",
       "      <td id=\"T_578e3_row1_col0\" class=\"data row1 col0\" >food</td>\n",
       "      <td id=\"T_578e3_row1_col1\" class=\"data row1 col1\" >3062</td>\n",
       "    </tr>\n",
       "    <tr>\n",
       "      <th id=\"T_578e3_level0_row2\" class=\"row_heading level0 row2\" >2</th>\n",
       "      <td id=\"T_578e3_row2_col0\" class=\"data row2 col0\" >service</td>\n",
       "      <td id=\"T_578e3_row2_col1\" class=\"data row2 col1\" >2359</td>\n",
       "    </tr>\n",
       "    <tr>\n",
       "      <th id=\"T_578e3_level0_row3\" class=\"row_heading level0 row3\" >3</th>\n",
       "      <td id=\"T_578e3_row3_col0\" class=\"data row3 col0\" >drive</td>\n",
       "      <td id=\"T_578e3_row3_col1\" class=\"data row3 col1\" >1355</td>\n",
       "    </tr>\n",
       "    <tr>\n",
       "      <th id=\"T_578e3_level0_row4\" class=\"row_heading level0 row4\" >4</th>\n",
       "      <td id=\"T_578e3_row4_col0\" class=\"data row4 col0\" >place</td>\n",
       "      <td id=\"T_578e3_row4_col1\" class=\"data row4 col1\" >1350</td>\n",
       "    </tr>\n",
       "    <tr>\n",
       "      <th id=\"T_578e3_level0_row5\" class=\"row_heading level0 row5\" >5</th>\n",
       "      <td id=\"T_578e3_row5_col0\" class=\"data row5 col0\" >time</td>\n",
       "      <td id=\"T_578e3_row5_col1\" class=\"data row5 col1\" >1302</td>\n",
       "    </tr>\n",
       "    <tr>\n",
       "      <th id=\"T_578e3_level0_row6\" class=\"row_heading level0 row6\" >6</th>\n",
       "      <td id=\"T_578e3_row6_col0\" class=\"data row6 col0\" >people</td>\n",
       "      <td id=\"T_578e3_row6_col1\" class=\"data row6 col1\" >1132</td>\n",
       "    </tr>\n",
       "    <tr>\n",
       "      <th id=\"T_578e3_level0_row7\" class=\"row_heading level0 row7\" >7</th>\n",
       "      <td id=\"T_578e3_row7_col0\" class=\"data row7 col0\" >minutes</td>\n",
       "      <td id=\"T_578e3_row7_col1\" class=\"data row7 col1\" >1085</td>\n",
       "    </tr>\n",
       "    <tr>\n",
       "      <th id=\"T_578e3_level0_row8\" class=\"row_heading level0 row8\" >8</th>\n",
       "      <td id=\"T_578e3_row8_col0\" class=\"data row8 col0\" >rude</td>\n",
       "      <td id=\"T_578e3_row8_col1\" class=\"data row8 col1\" >967</td>\n",
       "    </tr>\n",
       "    <tr>\n",
       "      <th id=\"T_578e3_level0_row9\" class=\"row_heading level0 row9\" >9</th>\n",
       "      <td id=\"T_578e3_row9_col0\" class=\"data row9 col0\" >staff</td>\n",
       "      <td id=\"T_578e3_row9_col1\" class=\"data row9 col1\" >953</td>\n",
       "    </tr>\n",
       "  </tbody>\n",
       "</table>\n"
      ],
      "text/plain": [
       "<pandas.io.formats.style.Styler at 0x7f4ca02f9d80>"
      ]
     },
     "execution_count": 247,
     "metadata": {},
     "output_type": "execute_result"
    }
   ],
   "source": [
    "# Word count in negative reviews\n",
    "top = Counter([item for sublist in df_roberta[df_roberta['pred_sentiment'] == 'negative']['word_list'] for item in sublist])\n",
    "negative_words = pd.DataFrame(top.most_common(10), columns=['Common_words', 'count'])\n",
    "negative_words.style.background_gradient(cmap='Reds')"
   ]
  },
  {
   "cell_type": "code",
   "execution_count": 248,
   "metadata": {},
   "outputs": [],
   "source": [
    "negative_words.to_csv('/teamspace/studios/this_studio/PROJECT_FINAL/mcdonalds_reviews/negative_words.csv')"
   ]
  },
  {
   "cell_type": "markdown",
   "metadata": {},
   "source": [
    "## Top 5 comments in negative and positive reviews"
   ]
  },
  {
   "cell_type": "code",
   "execution_count": 250,
   "metadata": {},
   "outputs": [
    {
     "name": "stdout",
     "output_type": "stream",
     "text": [
      "                                       clean_reviews actual_sentiment  \\\n",
      "0  We love coming here Tried the Shamrock Mcflurr...         positive   \n",
      "1  Delicious food great hamburgers great breakfas...         positive   \n",
      "2  amazing heavenly like it always is i ate on th...         positive   \n",
      "3  Wow what a great way to get the kids together ...         positive   \n",
      "4  I love this restaurant This is one of my favor...         positive   \n",
      "\n",
      "  pred_sentiment  \n",
      "0       positive  \n",
      "1       positive  \n",
      "2       positive  \n",
      "3       positive  \n",
      "4       positive  \n"
     ]
    }
   ],
   "source": [
    "# Top 5 positive reviews\n",
    "\n",
    "positive_reviews = df_roberta[df_roberta['pred_sentiment'] == 'positive']\n",
    "\n",
    "top_5_positive_df = positive_reviews.sort_values(by='RoBERTa_score', ascending=False).head(5)\n",
    "top_5_positive_df = top_5_positive_df.reset_index(drop=True)\n",
    "\n",
    "print(top_5_positive_df[['clean_reviews','actual_sentiment','pred_sentiment']])"
   ]
  },
  {
   "cell_type": "code",
   "execution_count": 251,
   "metadata": {},
   "outputs": [
    {
     "name": "stdout",
     "output_type": "stream",
     "text": [
      "                                       clean_reviews actual_sentiment  \\\n",
      "0  OMFG THE ABSOLUTE WORST MCDONALDS THAT I HAVE ...         negative   \n",
      "1  This is the worst mcdonalds ever There is alwa...         negative   \n",
      "2  This McDonalds is one of the worst McDonalds I...         negative   \n",
      "3  This place is the worst place to work I wouldn...         negative   \n",
      "4  They hire pothead teens with no customer servi...         negative   \n",
      "\n",
      "  pred_sentiment  \n",
      "0       negative  \n",
      "1       negative  \n",
      "2       negative  \n",
      "3       negative  \n",
      "4       negative  \n"
     ]
    }
   ],
   "source": [
    "# Top 5 negative reviews\n",
    "\n",
    "negative_reviews = df_roberta[df_roberta['pred_sentiment'] == 'negative']\n",
    "\n",
    "top_5_negative_df = negative_reviews.sort_values(by='RoBERTa_score', ascending=False).head(5)\n",
    "top_5_negative_df = top_5_negative_df.reset_index(drop=True)\n",
    "\n",
    "print(top_5_negative_df[['clean_reviews','actual_sentiment','pred_sentiment']])"
   ]
  }
 ],
 "metadata": {
  "colab": {
   "authorship_tag": "ABX9TyOC+FOVnGLUHu5M39MvxnHx",
   "provenance": []
  },
  "kernelspec": {
   "display_name": "Python 3",
   "name": "python3"
  },
  "language_info": {
   "name": "python"
  }
 },
 "nbformat": 4,
 "nbformat_minor": 0
}
