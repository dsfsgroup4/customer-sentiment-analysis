{
 "cells": [
  {
   "cell_type": "markdown",
   "metadata": {},
   "source": [
    "# RoBERTa Model"
   ]
  },
  {
   "cell_type": "markdown",
   "metadata": {},
   "source": [
    "### Import utilities"
   ]
  },
  {
   "cell_type": "code",
   "execution_count": 1,
   "metadata": {
    "colab": {
     "base_uri": "https://localhost:8080/"
    },
    "executionInfo": {
     "elapsed": 51,
     "status": "ok",
     "timestamp": 1743598907456,
     "user": {
      "displayName": "Yona PQT",
      "userId": "16550988622232765639"
     },
     "user_tz": -120
    },
    "id": "QnwdaAaxjd0y",
    "outputId": "25c38d44-e00a-4e7e-fb60-37b30da34e35"
   },
   "outputs": [
    {
     "name": "stderr",
     "output_type": "stream",
     "text": [
      "[nltk_data] Downloading package vader_lexicon to\n",
      "[nltk_data]     /teamspace/studios/this_studio/nltk_data...\n",
      "[nltk_data]   Package vader_lexicon is already up-to-date!\n",
      "[nltk_data] Downloading package punkt_tab to\n",
      "[nltk_data]     /teamspace/studios/this_studio/nltk_data...\n",
      "[nltk_data]   Package punkt_tab is already up-to-date!\n",
      "[nltk_data] Downloading package stopwords to\n",
      "[nltk_data]     /teamspace/studios/this_studio/nltk_data...\n",
      "[nltk_data]   Package stopwords is already up-to-date!\n",
      "[nltk_data] Downloading package wordnet to\n",
      "[nltk_data]     /teamspace/studios/this_studio/nltk_data...\n",
      "[nltk_data]   Package wordnet is already up-to-date!\n"
     ]
    }
   ],
   "source": [
    "import pandas as pd\n",
    "import matplotlib.pyplot as plt\n",
    "import seaborn as sns\n",
    "\n",
    "from tqdm.notebook import tqdm\n",
    "from collections import Counter\n",
    "import re\n",
    "\n",
    "import nltk\n",
    "from nltk.corpus import stopwords\n",
    "from collections import Counter\n",
    "\n",
    "nltk.download('vader_lexicon')\n",
    "nltk.download('punkt_tab')\n",
    "nltk.download('stopwords')\n",
    "nltk.download('wordnet')\n",
    "\n",
    "plt.style.use('ggplot')"
   ]
  },
  {
   "cell_type": "code",
   "execution_count": 2,
   "metadata": {},
   "outputs": [],
   "source": [
    "# Open file to remove potential errors\n",
    "with open('/teamspace/studios/this_studio/PROJECT_FINAL/data/dataset.csv', 'r', encoding='utf-8', errors='replace') as f:\n",
    "    content = f.read()\n",
    "\n",
    "# Save cleaned \n",
    "with open('/teamspace/studios/this_studio/PROJECT_FINAL/data/file_dataset.csv', 'w', encoding='utf-8') as f:\n",
    "    f.write(content)"
   ]
  },
  {
   "cell_type": "code",
   "execution_count": 3,
   "metadata": {},
   "outputs": [],
   "source": [
    "data = pd.read_csv('/teamspace/studios/this_studio/PROJECT_FINAL/data/file_dataset.csv').drop(columns='Unnamed: 0')"
   ]
  },
  {
   "cell_type": "code",
   "execution_count": 4,
   "metadata": {
    "colab": {
     "base_uri": "https://localhost:8080/",
     "height": 293
    },
    "executionInfo": {
     "elapsed": 115,
     "status": "ok",
     "timestamp": 1743598910759,
     "user": {
      "displayName": "Yona PQT",
      "userId": "16550988622232765639"
     },
     "user_tz": -120
    },
    "id": "k28yVFDPkTLt",
    "outputId": "ab22e502-6d08-4f82-b01b-eb185c987bed"
   },
   "outputs": [
    {
     "data": {
      "text/html": [
       "<div>\n",
       "<style scoped>\n",
       "    .dataframe tbody tr th:only-of-type {\n",
       "        vertical-align: middle;\n",
       "    }\n",
       "\n",
       "    .dataframe tbody tr th {\n",
       "        vertical-align: top;\n",
       "    }\n",
       "\n",
       "    .dataframe thead th {\n",
       "        text-align: right;\n",
       "    }\n",
       "</style>\n",
       "<table border=\"1\" class=\"dataframe\">\n",
       "  <thead>\n",
       "    <tr style=\"text-align: right;\">\n",
       "      <th></th>\n",
       "      <th>reviewer_id</th>\n",
       "      <th>store_name</th>\n",
       "      <th>category</th>\n",
       "      <th>store_address</th>\n",
       "      <th>latitude</th>\n",
       "      <th>longitude</th>\n",
       "      <th>rating_count</th>\n",
       "      <th>review_time</th>\n",
       "      <th>review</th>\n",
       "      <th>ratings</th>\n",
       "    </tr>\n",
       "  </thead>\n",
       "  <tbody>\n",
       "    <tr>\n",
       "      <th>0</th>\n",
       "      <td>1</td>\n",
       "      <td>McDonald's</td>\n",
       "      <td>Fast food restaurant</td>\n",
       "      <td>13749 US-183 Hwy, Austin, TX 78750, United States</td>\n",
       "      <td>30.460718</td>\n",
       "      <td>-97.792874</td>\n",
       "      <td>1240</td>\n",
       "      <td>2024-12-31</td>\n",
       "      <td>Why does it look like someone spit on my food?...</td>\n",
       "      <td>1</td>\n",
       "    </tr>\n",
       "    <tr>\n",
       "      <th>1</th>\n",
       "      <td>2</td>\n",
       "      <td>McDonald's</td>\n",
       "      <td>Fast food restaurant</td>\n",
       "      <td>13749 US-183 Hwy, Austin, TX 78750, United States</td>\n",
       "      <td>30.460718</td>\n",
       "      <td>-97.792874</td>\n",
       "      <td>1240</td>\n",
       "      <td>2025-03-26</td>\n",
       "      <td>It'd McDonalds. It is what it is as far as the...</td>\n",
       "      <td>4</td>\n",
       "    </tr>\n",
       "    <tr>\n",
       "      <th>2</th>\n",
       "      <td>3</td>\n",
       "      <td>McDonald's</td>\n",
       "      <td>Fast food restaurant</td>\n",
       "      <td>13749 US-183 Hwy, Austin, TX 78750, United States</td>\n",
       "      <td>30.460718</td>\n",
       "      <td>-97.792874</td>\n",
       "      <td>1240</td>\n",
       "      <td>2025-03-26</td>\n",
       "      <td>Made a mobile order got to the speaker and che...</td>\n",
       "      <td>1</td>\n",
       "    </tr>\n",
       "    <tr>\n",
       "      <th>3</th>\n",
       "      <td>4</td>\n",
       "      <td>McDonald's</td>\n",
       "      <td>Fast food restaurant</td>\n",
       "      <td>13749 US-183 Hwy, Austin, TX 78750, United States</td>\n",
       "      <td>30.460718</td>\n",
       "      <td>-97.792874</td>\n",
       "      <td>1240</td>\n",
       "      <td>2025-02-28</td>\n",
       "      <td>My mc. Crispy chicken sandwich was ï¿½ï¿½ï¿½ï¿...</td>\n",
       "      <td>5</td>\n",
       "    </tr>\n",
       "    <tr>\n",
       "      <th>4</th>\n",
       "      <td>5</td>\n",
       "      <td>McDonald's</td>\n",
       "      <td>Fast food restaurant</td>\n",
       "      <td>13749 US-183 Hwy, Austin, TX 78750, United States</td>\n",
       "      <td>30.460718</td>\n",
       "      <td>-97.792874</td>\n",
       "      <td>1240</td>\n",
       "      <td>2025-01-31</td>\n",
       "      <td>I repeat my order 3 times in the drive thru, a...</td>\n",
       "      <td>1</td>\n",
       "    </tr>\n",
       "  </tbody>\n",
       "</table>\n",
       "</div>"
      ],
      "text/plain": [
       "   reviewer_id  store_name              category  \\\n",
       "0            1  McDonald's  Fast food restaurant   \n",
       "1            2  McDonald's  Fast food restaurant   \n",
       "2            3  McDonald's  Fast food restaurant   \n",
       "3            4  McDonald's  Fast food restaurant   \n",
       "4            5  McDonald's  Fast food restaurant   \n",
       "\n",
       "                                       store_address  latitude   longitude  \\\n",
       "0  13749 US-183 Hwy, Austin, TX 78750, United States  30.460718 -97.792874   \n",
       "1  13749 US-183 Hwy, Austin, TX 78750, United States  30.460718 -97.792874   \n",
       "2  13749 US-183 Hwy, Austin, TX 78750, United States  30.460718 -97.792874   \n",
       "3  13749 US-183 Hwy, Austin, TX 78750, United States  30.460718 -97.792874   \n",
       "4  13749 US-183 Hwy, Austin, TX 78750, United States  30.460718 -97.792874   \n",
       "\n",
       "   rating_count review_time  \\\n",
       "0          1240  2024-12-31   \n",
       "1          1240  2025-03-26   \n",
       "2          1240  2025-03-26   \n",
       "3          1240  2025-02-28   \n",
       "4          1240  2025-01-31   \n",
       "\n",
       "                                              review  ratings  \n",
       "0  Why does it look like someone spit on my food?...        1  \n",
       "1  It'd McDonalds. It is what it is as far as the...        4  \n",
       "2  Made a mobile order got to the speaker and che...        1  \n",
       "3  My mc. Crispy chicken sandwich was ï¿½ï¿½ï¿½ï¿...        5  \n",
       "4  I repeat my order 3 times in the drive thru, a...        1  "
      ]
     },
     "execution_count": 4,
     "metadata": {},
     "output_type": "execute_result"
    }
   ],
   "source": [
    "data.head()"
   ]
  },
  {
   "cell_type": "code",
   "execution_count": 5,
   "metadata": {},
   "outputs": [],
   "source": [
    "df = data.copy()\n",
    "\n",
    "# Drop null values\n",
    "df = df.dropna()"
   ]
  },
  {
   "cell_type": "code",
   "execution_count": 6,
   "metadata": {},
   "outputs": [],
   "source": [
    "# Feature engineering City and State\n",
    "df[['City', 'State']] = df['store_address'].apply(lambda x: pd.Series(x.split(', ')[-3:-1]))"
   ]
  },
  {
   "cell_type": "code",
   "execution_count": 7,
   "metadata": {},
   "outputs": [
    {
     "name": "stdout",
     "output_type": "stream",
     "text": [
      "                                           clean_reviews\n",
      "0      why does it look like someone spit on my food ...\n",
      "1      itd mcdonalds it is what it is as far as the f...\n",
      "2      made a mobile order got to the speaker and che...\n",
      "3      my mc crispy chicken sandwich was customer ser...\n",
      "4      i repeat my order times in the drive thru and ...\n",
      "...                                                  ...\n",
      "33391                         they treated me very badly\n",
      "33392                           the service is very good\n",
      "33393                         to remove hunger is enough\n",
      "33394   its good but lately it has become very expensive\n",
      "33395                          they took good care of me\n",
      "\n",
      "[32309 rows x 1 columns]\n"
     ]
    }
   ],
   "source": [
    "# Create function to remove texts in the review column\n",
    "def clean_review(review):\n",
    "    review = review.lower()\n",
    "    review = review.replace('½ï', '').replace('ý', '')\n",
    "    review = re.sub(r'[^a-zA-Z\\s]', '', review)\n",
    "    review = re.sub(r'\\s+', ' ', review).strip()\n",
    "    return review\n",
    "\n",
    "df['clean_reviews'] = df['review'].apply(clean_review)\n",
    "\n",
    "print(df[['clean_reviews']])"
   ]
  },
  {
   "cell_type": "code",
   "execution_count": 8,
   "metadata": {},
   "outputs": [],
   "source": [
    "# Function to add column for the actual review: positive : ratings > 3,\n",
    "# neutral: ratings == 3, negative : ratings <3.\n",
    "def actual_review(data):\n",
    "    if data['ratings'] > 3:\n",
    "        return \"positive\" \n",
    "    elif data[\"ratings\"] == 3:\n",
    "        return \"neutral\"\n",
    "    else:\n",
    "        return \"negative\"\n",
    "\n",
    "# Apply the function to each row\n",
    "df['actual_review'] = df.apply(actual_review, axis=1)"
   ]
  },
  {
   "cell_type": "code",
   "execution_count": 9,
   "metadata": {},
   "outputs": [
    {
     "data": {
      "text/html": [
       "<div>\n",
       "<style scoped>\n",
       "    .dataframe tbody tr th:only-of-type {\n",
       "        vertical-align: middle;\n",
       "    }\n",
       "\n",
       "    .dataframe tbody tr th {\n",
       "        vertical-align: top;\n",
       "    }\n",
       "\n",
       "    .dataframe thead th {\n",
       "        text-align: right;\n",
       "    }\n",
       "</style>\n",
       "<table border=\"1\" class=\"dataframe\">\n",
       "  <thead>\n",
       "    <tr style=\"text-align: right;\">\n",
       "      <th></th>\n",
       "      <th>reviewer_id</th>\n",
       "      <th>store_name</th>\n",
       "      <th>category</th>\n",
       "      <th>store_address</th>\n",
       "      <th>latitude</th>\n",
       "      <th>longitude</th>\n",
       "      <th>rating_count</th>\n",
       "      <th>review_time</th>\n",
       "      <th>review</th>\n",
       "      <th>ratings</th>\n",
       "      <th>City</th>\n",
       "      <th>State</th>\n",
       "      <th>clean_reviews</th>\n",
       "      <th>actual_review</th>\n",
       "    </tr>\n",
       "  </thead>\n",
       "  <tbody>\n",
       "    <tr>\n",
       "      <th>0</th>\n",
       "      <td>1</td>\n",
       "      <td>McDonald's</td>\n",
       "      <td>Fast food restaurant</td>\n",
       "      <td>13749 US-183 Hwy, Austin, TX 78750, United States</td>\n",
       "      <td>30.460718</td>\n",
       "      <td>-97.792874</td>\n",
       "      <td>1240</td>\n",
       "      <td>2024-12-31</td>\n",
       "      <td>Why does it look like someone spit on my food?...</td>\n",
       "      <td>1</td>\n",
       "      <td>Austin</td>\n",
       "      <td>TX 78750</td>\n",
       "      <td>why does it look like someone spit on my food ...</td>\n",
       "      <td>negative</td>\n",
       "    </tr>\n",
       "    <tr>\n",
       "      <th>1</th>\n",
       "      <td>2</td>\n",
       "      <td>McDonald's</td>\n",
       "      <td>Fast food restaurant</td>\n",
       "      <td>13749 US-183 Hwy, Austin, TX 78750, United States</td>\n",
       "      <td>30.460718</td>\n",
       "      <td>-97.792874</td>\n",
       "      <td>1240</td>\n",
       "      <td>2025-03-26</td>\n",
       "      <td>It'd McDonalds. It is what it is as far as the...</td>\n",
       "      <td>4</td>\n",
       "      <td>Austin</td>\n",
       "      <td>TX 78750</td>\n",
       "      <td>itd mcdonalds it is what it is as far as the f...</td>\n",
       "      <td>positive</td>\n",
       "    </tr>\n",
       "    <tr>\n",
       "      <th>2</th>\n",
       "      <td>3</td>\n",
       "      <td>McDonald's</td>\n",
       "      <td>Fast food restaurant</td>\n",
       "      <td>13749 US-183 Hwy, Austin, TX 78750, United States</td>\n",
       "      <td>30.460718</td>\n",
       "      <td>-97.792874</td>\n",
       "      <td>1240</td>\n",
       "      <td>2025-03-26</td>\n",
       "      <td>Made a mobile order got to the speaker and che...</td>\n",
       "      <td>1</td>\n",
       "      <td>Austin</td>\n",
       "      <td>TX 78750</td>\n",
       "      <td>made a mobile order got to the speaker and che...</td>\n",
       "      <td>negative</td>\n",
       "    </tr>\n",
       "    <tr>\n",
       "      <th>3</th>\n",
       "      <td>4</td>\n",
       "      <td>McDonald's</td>\n",
       "      <td>Fast food restaurant</td>\n",
       "      <td>13749 US-183 Hwy, Austin, TX 78750, United States</td>\n",
       "      <td>30.460718</td>\n",
       "      <td>-97.792874</td>\n",
       "      <td>1240</td>\n",
       "      <td>2025-02-28</td>\n",
       "      <td>My mc. Crispy chicken sandwich was ï¿½ï¿½ï¿½ï¿...</td>\n",
       "      <td>5</td>\n",
       "      <td>Austin</td>\n",
       "      <td>TX 78750</td>\n",
       "      <td>my mc crispy chicken sandwich was customer ser...</td>\n",
       "      <td>positive</td>\n",
       "    </tr>\n",
       "    <tr>\n",
       "      <th>4</th>\n",
       "      <td>5</td>\n",
       "      <td>McDonald's</td>\n",
       "      <td>Fast food restaurant</td>\n",
       "      <td>13749 US-183 Hwy, Austin, TX 78750, United States</td>\n",
       "      <td>30.460718</td>\n",
       "      <td>-97.792874</td>\n",
       "      <td>1240</td>\n",
       "      <td>2025-01-31</td>\n",
       "      <td>I repeat my order 3 times in the drive thru, a...</td>\n",
       "      <td>1</td>\n",
       "      <td>Austin</td>\n",
       "      <td>TX 78750</td>\n",
       "      <td>i repeat my order times in the drive thru and ...</td>\n",
       "      <td>negative</td>\n",
       "    </tr>\n",
       "  </tbody>\n",
       "</table>\n",
       "</div>"
      ],
      "text/plain": [
       "   reviewer_id  store_name              category  \\\n",
       "0            1  McDonald's  Fast food restaurant   \n",
       "1            2  McDonald's  Fast food restaurant   \n",
       "2            3  McDonald's  Fast food restaurant   \n",
       "3            4  McDonald's  Fast food restaurant   \n",
       "4            5  McDonald's  Fast food restaurant   \n",
       "\n",
       "                                       store_address  latitude   longitude  \\\n",
       "0  13749 US-183 Hwy, Austin, TX 78750, United States  30.460718 -97.792874   \n",
       "1  13749 US-183 Hwy, Austin, TX 78750, United States  30.460718 -97.792874   \n",
       "2  13749 US-183 Hwy, Austin, TX 78750, United States  30.460718 -97.792874   \n",
       "3  13749 US-183 Hwy, Austin, TX 78750, United States  30.460718 -97.792874   \n",
       "4  13749 US-183 Hwy, Austin, TX 78750, United States  30.460718 -97.792874   \n",
       "\n",
       "   rating_count review_time  \\\n",
       "0          1240  2024-12-31   \n",
       "1          1240  2025-03-26   \n",
       "2          1240  2025-03-26   \n",
       "3          1240  2025-02-28   \n",
       "4          1240  2025-01-31   \n",
       "\n",
       "                                              review  ratings    City  \\\n",
       "0  Why does it look like someone spit on my food?...        1  Austin   \n",
       "1  It'd McDonalds. It is what it is as far as the...        4  Austin   \n",
       "2  Made a mobile order got to the speaker and che...        1  Austin   \n",
       "3  My mc. Crispy chicken sandwich was ï¿½ï¿½ï¿½ï¿...        5  Austin   \n",
       "4  I repeat my order 3 times in the drive thru, a...        1  Austin   \n",
       "\n",
       "      State                                      clean_reviews actual_review  \n",
       "0  TX 78750  why does it look like someone spit on my food ...      negative  \n",
       "1  TX 78750  itd mcdonalds it is what it is as far as the f...      positive  \n",
       "2  TX 78750  made a mobile order got to the speaker and che...      negative  \n",
       "3  TX 78750  my mc crispy chicken sandwich was customer ser...      positive  \n",
       "4  TX 78750  i repeat my order times in the drive thru and ...      negative  "
      ]
     },
     "execution_count": 9,
     "metadata": {},
     "output_type": "execute_result"
    }
   ],
   "source": [
    "df.head()"
   ]
  },
  {
   "cell_type": "markdown",
   "metadata": {
    "id": "5hD0Bp2nmb90"
   },
   "source": [
    "## Quick EDA"
   ]
  },
  {
   "cell_type": "code",
   "execution_count": 10,
   "metadata": {
    "colab": {
     "base_uri": "https://localhost:8080/",
     "height": 487
    },
    "executionInfo": {
     "elapsed": 483,
     "status": "ok",
     "timestamp": 1743599018644,
     "user": {
      "displayName": "Yona PQT",
      "userId": "16550988622232765639"
     },
     "user_tz": -120
    },
    "id": "e_lXo0iqmXEL",
    "outputId": "bacfafda-9ca8-466e-ad3b-a3a08a1483ec"
   },
   "outputs": [
    {
     "data": {
      "image/png": "[encoded data removed]",
      "text/plain": [
       "<Figure size 1000x500 with 1 Axes>"
      ]
     },
     "metadata": {},
     "output_type": "display_data"
    }
   ],
   "source": [
    "ax = df['ratings'].value_counts().sort_index() \\\n",
    "    .plot(kind='bar',\n",
    "          title='Count of Reviews by Stars',\n",
    "          figsize=(10, 5))\n",
    "ax.set_xlabel('Review Stars')\n",
    "plt.show()"
   ]
  },
  {
   "cell_type": "markdown",
   "metadata": {
    "id": "PkeCTqfimGp4"
   },
   "source": [
    "# Load RoBERTa Pretrained Model\n",
    "\n",
    "    - Use a model trained of a large corpus of data.\n",
    "    - Transformer model accounts for the words but also the context related to other words.\n"
   ]
  },
  {
   "cell_type": "code",
   "execution_count": 11,
   "metadata": {},
   "outputs": [
    {
     "name": "stderr",
     "output_type": "stream",
     "text": [
      "Device set to use cpu\n"
     ]
    }
   ],
   "source": [
    "# Load model \n",
    "from transformers import pipeline\n",
    "\n",
    "# Initialize the sentiment analysis pipeline\n",
    "model_roberta = pipeline(\"text-classification\", model=\"cardiffnlp/twitter-roberta-base-sentiment\")"
   ]
  },
  {
   "cell_type": "code",
   "execution_count": 12,
   "metadata": {},
   "outputs": [],
   "source": [
    "# Use model to analyze reviews of Mcdonald's restaurants in New York\n",
    "df1 = df.copy(deep=True)\n",
    "df_newyork=df1[df1[\"City\"]==\"New York\"]"
   ]
  },
  {
   "cell_type": "code",
   "execution_count": 13,
   "metadata": {},
   "outputs": [],
   "source": [
    "# Create dataframe of review_id, review, ratings, actual_review\n",
    "df_newyork=df_newyork[['reviewer_id','clean_reviews','ratings','actual_review']]"
   ]
  },
  {
   "cell_type": "code",
   "execution_count": 14,
   "metadata": {},
   "outputs": [
    {
     "data": {
      "text/html": [
       "<div>\n",
       "<style scoped>\n",
       "    .dataframe tbody tr th:only-of-type {\n",
       "        vertical-align: middle;\n",
       "    }\n",
       "\n",
       "    .dataframe tbody tr th {\n",
       "        vertical-align: top;\n",
       "    }\n",
       "\n",
       "    .dataframe thead th {\n",
       "        text-align: right;\n",
       "    }\n",
       "</style>\n",
       "<table border=\"1\" class=\"dataframe\">\n",
       "  <thead>\n",
       "    <tr style=\"text-align: right;\">\n",
       "      <th></th>\n",
       "      <th>reviewer_id</th>\n",
       "      <th>clean_reviews</th>\n",
       "      <th>ratings</th>\n",
       "      <th>actual_review</th>\n",
       "    </tr>\n",
       "  </thead>\n",
       "  <tbody>\n",
       "    <tr>\n",
       "      <th>2968</th>\n",
       "      <td>2969</td>\n",
       "      <td>visited this location for breakfast the place ...</td>\n",
       "      <td>3</td>\n",
       "      <td>neutral</td>\n",
       "    </tr>\n",
       "    <tr>\n",
       "      <th>2969</th>\n",
       "      <td>2970</td>\n",
       "      <td>from cleanliness to freshness to the fast cust...</td>\n",
       "      <td>5</td>\n",
       "      <td>positive</td>\n",
       "    </tr>\n",
       "    <tr>\n",
       "      <th>2970</th>\n",
       "      <td>2971</td>\n",
       "      <td>mcdonalds was great the food tastes like in uk...</td>\n",
       "      <td>5</td>\n",
       "      <td>positive</td>\n",
       "    </tr>\n",
       "    <tr>\n",
       "      <th>2971</th>\n",
       "      <td>2972</td>\n",
       "      <td>thursday at am i went in here to order a very ...</td>\n",
       "      <td>1</td>\n",
       "      <td>negative</td>\n",
       "    </tr>\n",
       "    <tr>\n",
       "      <th>2972</th>\n",
       "      <td>2973</td>\n",
       "      <td>it is a hr location when i arrived and tried t...</td>\n",
       "      <td>1</td>\n",
       "      <td>negative</td>\n",
       "    </tr>\n",
       "  </tbody>\n",
       "</table>\n",
       "</div>"
      ],
      "text/plain": [
       "      reviewer_id                                      clean_reviews  ratings  \\\n",
       "2968         2969  visited this location for breakfast the place ...        3   \n",
       "2969         2970  from cleanliness to freshness to the fast cust...        5   \n",
       "2970         2971  mcdonalds was great the food tastes like in uk...        5   \n",
       "2971         2972  thursday at am i went in here to order a very ...        1   \n",
       "2972         2973  it is a hr location when i arrived and tried t...        1   \n",
       "\n",
       "     actual_review  \n",
       "2968       neutral  \n",
       "2969      positive  \n",
       "2970      positive  \n",
       "2971      negative  \n",
       "2972      negative  "
      ]
     },
     "execution_count": 14,
     "metadata": {},
     "output_type": "execute_result"
    }
   ],
   "source": [
    "df_newyork.head()"
   ]
  },
  {
   "cell_type": "code",
   "execution_count": 16,
   "metadata": {},
   "outputs": [
    {
     "data": {
      "application/vnd.jupyter.widget-view+json": {
       "model_id": "1029714cdb37428fb1522cef120aa1d4",
       "version_major": 2,
       "version_minor": 0
      },
      "text/plain": [
       "  0%|          | 0/3452 [00:00<?, ?it/s]"
      ]
     },
     "metadata": {},
     "output_type": "display_data"
    }
   ],
   "source": [
    "# Loop to each review in the dataset, the results are stored in a dictionary\n",
    "res = {}\n",
    "for i, row in tqdm(df_newyork.iterrows(), total=len(df_newyork)):\n",
    "    try:\n",
    "        text = row['clean_reviews']\n",
    "        myid = row['reviewer_id']\n",
    "\n",
    "        roberta_result = model_roberta(text)\n",
    "        roberta_result_model = {}\n",
    "\n",
    "        if isinstance(roberta_result, list) and len(roberta_result) > 0:\n",
    "            for key, value in roberta_result[0].items():\n",
    "                roberta_result_model[f'RoBerta_{key}'] = value\n",
    "\n",
    "        res[myid] = roberta_result_model\n",
    "\n",
    "    except RuntimeError:\n",
    "        print(f'Runtime error for id {myid}')"
   ]
  },
  {
   "cell_type": "code",
   "execution_count": 17,
   "metadata": {},
   "outputs": [
    {
     "data": {
      "text/html": [
       "<div>\n",
       "<style scoped>\n",
       "    .dataframe tbody tr th:only-of-type {\n",
       "        vertical-align: middle;\n",
       "    }\n",
       "\n",
       "    .dataframe tbody tr th {\n",
       "        vertical-align: top;\n",
       "    }\n",
       "\n",
       "    .dataframe thead th {\n",
       "        text-align: right;\n",
       "    }\n",
       "</style>\n",
       "<table border=\"1\" class=\"dataframe\">\n",
       "  <thead>\n",
       "    <tr style=\"text-align: right;\">\n",
       "      <th></th>\n",
       "      <th>RoBerta_label</th>\n",
       "      <th>RoBerta_score</th>\n",
       "    </tr>\n",
       "  </thead>\n",
       "  <tbody>\n",
       "    <tr>\n",
       "      <th>2969</th>\n",
       "      <td>LABEL_2</td>\n",
       "      <td>0.76062</td>\n",
       "    </tr>\n",
       "    <tr>\n",
       "      <th>2970</th>\n",
       "      <td>LABEL_2</td>\n",
       "      <td>0.829798</td>\n",
       "    </tr>\n",
       "    <tr>\n",
       "      <th>2971</th>\n",
       "      <td>LABEL_2</td>\n",
       "      <td>0.987244</td>\n",
       "    </tr>\n",
       "    <tr>\n",
       "      <th>2972</th>\n",
       "      <td>LABEL_0</td>\n",
       "      <td>0.950658</td>\n",
       "    </tr>\n",
       "    <tr>\n",
       "      <th>2973</th>\n",
       "      <td>LABEL_0</td>\n",
       "      <td>0.827604</td>\n",
       "    </tr>\n",
       "  </tbody>\n",
       "</table>\n",
       "</div>"
      ],
      "text/plain": [
       "     RoBerta_label RoBerta_score\n",
       "2969       LABEL_2       0.76062\n",
       "2970       LABEL_2      0.829798\n",
       "2971       LABEL_2      0.987244\n",
       "2972       LABEL_0      0.950658\n",
       "2973       LABEL_0      0.827604"
      ]
     },
     "execution_count": 17,
     "metadata": {},
     "output_type": "execute_result"
    }
   ],
   "source": [
    "# Convert the results in dictionary to pandas DataFrame\n",
    "results = pd.DataFrame(res).T\n",
    "results.head()"
   ]
  },
  {
   "cell_type": "code",
   "execution_count": 18,
   "metadata": {},
   "outputs": [
    {
     "data": {
      "text/html": [
       "<div>\n",
       "<style scoped>\n",
       "    .dataframe tbody tr th:only-of-type {\n",
       "        vertical-align: middle;\n",
       "    }\n",
       "\n",
       "    .dataframe tbody tr th {\n",
       "        vertical-align: top;\n",
       "    }\n",
       "\n",
       "    .dataframe thead th {\n",
       "        text-align: right;\n",
       "    }\n",
       "</style>\n",
       "<table border=\"1\" class=\"dataframe\">\n",
       "  <thead>\n",
       "    <tr style=\"text-align: right;\">\n",
       "      <th></th>\n",
       "      <th>reviewer_id</th>\n",
       "      <th>RoBerta_label</th>\n",
       "      <th>RoBerta_score</th>\n",
       "    </tr>\n",
       "  </thead>\n",
       "  <tbody>\n",
       "    <tr>\n",
       "      <th>0</th>\n",
       "      <td>2969</td>\n",
       "      <td>LABEL_2</td>\n",
       "      <td>0.76062</td>\n",
       "    </tr>\n",
       "    <tr>\n",
       "      <th>1</th>\n",
       "      <td>2970</td>\n",
       "      <td>LABEL_2</td>\n",
       "      <td>0.829798</td>\n",
       "    </tr>\n",
       "    <tr>\n",
       "      <th>2</th>\n",
       "      <td>2971</td>\n",
       "      <td>LABEL_2</td>\n",
       "      <td>0.987244</td>\n",
       "    </tr>\n",
       "    <tr>\n",
       "      <th>3</th>\n",
       "      <td>2972</td>\n",
       "      <td>LABEL_0</td>\n",
       "      <td>0.950658</td>\n",
       "    </tr>\n",
       "    <tr>\n",
       "      <th>4</th>\n",
       "      <td>2973</td>\n",
       "      <td>LABEL_0</td>\n",
       "      <td>0.827604</td>\n",
       "    </tr>\n",
       "  </tbody>\n",
       "</table>\n",
       "</div>"
      ],
      "text/plain": [
       "   reviewer_id RoBerta_label RoBerta_score\n",
       "0         2969       LABEL_2       0.76062\n",
       "1         2970       LABEL_2      0.829798\n",
       "2         2971       LABEL_2      0.987244\n",
       "3         2972       LABEL_0      0.950658\n",
       "4         2973       LABEL_0      0.827604"
      ]
     },
     "execution_count": 18,
     "metadata": {},
     "output_type": "execute_result"
    }
   ],
   "source": [
    "results= results.reset_index().rename(columns={'index': 'reviewer_id'})\n",
    "results.head()"
   ]
  },
  {
   "cell_type": "code",
   "execution_count": 19,
   "metadata": {},
   "outputs": [
    {
     "data": {
      "text/html": [
       "<div>\n",
       "<style scoped>\n",
       "    .dataframe tbody tr th:only-of-type {\n",
       "        vertical-align: middle;\n",
       "    }\n",
       "\n",
       "    .dataframe tbody tr th {\n",
       "        vertical-align: top;\n",
       "    }\n",
       "\n",
       "    .dataframe thead th {\n",
       "        text-align: right;\n",
       "    }\n",
       "</style>\n",
       "<table border=\"1\" class=\"dataframe\">\n",
       "  <thead>\n",
       "    <tr style=\"text-align: right;\">\n",
       "      <th></th>\n",
       "      <th>reviewer_id</th>\n",
       "      <th>RoBerta_label</th>\n",
       "      <th>RoBerta_score</th>\n",
       "      <th>clean_reviews</th>\n",
       "      <th>ratings</th>\n",
       "      <th>actual_review</th>\n",
       "    </tr>\n",
       "  </thead>\n",
       "  <tbody>\n",
       "    <tr>\n",
       "      <th>0</th>\n",
       "      <td>2969</td>\n",
       "      <td>LABEL_2</td>\n",
       "      <td>0.76062</td>\n",
       "      <td>visited this location for breakfast the place ...</td>\n",
       "      <td>3</td>\n",
       "      <td>neutral</td>\n",
       "    </tr>\n",
       "    <tr>\n",
       "      <th>1</th>\n",
       "      <td>2970</td>\n",
       "      <td>LABEL_2</td>\n",
       "      <td>0.829798</td>\n",
       "      <td>from cleanliness to freshness to the fast cust...</td>\n",
       "      <td>5</td>\n",
       "      <td>positive</td>\n",
       "    </tr>\n",
       "    <tr>\n",
       "      <th>2</th>\n",
       "      <td>2971</td>\n",
       "      <td>LABEL_2</td>\n",
       "      <td>0.987244</td>\n",
       "      <td>mcdonalds was great the food tastes like in uk...</td>\n",
       "      <td>5</td>\n",
       "      <td>positive</td>\n",
       "    </tr>\n",
       "    <tr>\n",
       "      <th>3</th>\n",
       "      <td>2972</td>\n",
       "      <td>LABEL_0</td>\n",
       "      <td>0.950658</td>\n",
       "      <td>thursday at am i went in here to order a very ...</td>\n",
       "      <td>1</td>\n",
       "      <td>negative</td>\n",
       "    </tr>\n",
       "    <tr>\n",
       "      <th>4</th>\n",
       "      <td>2973</td>\n",
       "      <td>LABEL_0</td>\n",
       "      <td>0.827604</td>\n",
       "      <td>it is a hr location when i arrived and tried t...</td>\n",
       "      <td>1</td>\n",
       "      <td>negative</td>\n",
       "    </tr>\n",
       "  </tbody>\n",
       "</table>\n",
       "</div>"
      ],
      "text/plain": [
       "   reviewer_id RoBerta_label RoBerta_score  \\\n",
       "0         2969       LABEL_2       0.76062   \n",
       "1         2970       LABEL_2      0.829798   \n",
       "2         2971       LABEL_2      0.987244   \n",
       "3         2972       LABEL_0      0.950658   \n",
       "4         2973       LABEL_0      0.827604   \n",
       "\n",
       "                                       clean_reviews  ratings actual_review  \n",
       "0  visited this location for breakfast the place ...        3       neutral  \n",
       "1  from cleanliness to freshness to the fast cust...        5      positive  \n",
       "2  mcdonalds was great the food tastes like in uk...        5      positive  \n",
       "3  thursday at am i went in here to order a very ...        1      negative  \n",
       "4  it is a hr location when i arrived and tried t...        1      negative  "
      ]
     },
     "execution_count": 19,
     "metadata": {},
     "output_type": "execute_result"
    }
   ],
   "source": [
    "# Merge the results dataframe to the main dataframe of Mcdonalds Newyork\n",
    "results = results.merge(df_newyork, how='left')\n",
    "results.head()"
   ]
  },
  {
   "cell_type": "code",
   "execution_count": 20,
   "metadata": {},
   "outputs": [],
   "source": [
    "# RoBERTa labeled results as: for negative review as LABEL_0, for neutral as LABEL_1, and for positive as LABEL_2\n",
    "# Below is to map  the Labels as negative , neutral and positive\n",
    "\n",
    "def map_roberta_labels(label):\n",
    "    if label == 'LABEL_0':\n",
    "        return 'negative'\n",
    "    elif label == 'LABEL_1':\n",
    "        return 'neutral'\n",
    "    elif label == 'LABEL_2':\n",
    "        return 'positive'\n",
    "    else:\n",
    "        return 'unknown' \n",
    "\n",
    "# Apply the function to the 'RoBerta_label' column\n",
    "results['predicted_sentiment'] = results['RoBerta_label'].apply(map_roberta_labels)"
   ]
  },
  {
   "cell_type": "code",
   "execution_count": 22,
   "metadata": {},
   "outputs": [],
   "source": [
    "df_refults =results[['reviewer_id', 'clean_reviews', 'RoBerta_label', 'predicted_sentiment']]"
   ]
  },
  {
   "cell_type": "code",
   "execution_count": 23,
   "metadata": {},
   "outputs": [
    {
     "data": {
      "text/html": [
       "<div>\n",
       "<style scoped>\n",
       "    .dataframe tbody tr th:only-of-type {\n",
       "        vertical-align: middle;\n",
       "    }\n",
       "\n",
       "    .dataframe tbody tr th {\n",
       "        vertical-align: top;\n",
       "    }\n",
       "\n",
       "    .dataframe thead th {\n",
       "        text-align: right;\n",
       "    }\n",
       "</style>\n",
       "<table border=\"1\" class=\"dataframe\">\n",
       "  <thead>\n",
       "    <tr style=\"text-align: right;\">\n",
       "      <th></th>\n",
       "      <th>reviewer_id</th>\n",
       "      <th>clean_reviews</th>\n",
       "      <th>RoBerta_label</th>\n",
       "      <th>predicted_sentiment</th>\n",
       "      <th>RoBerta_score</th>\n",
       "      <th>ratings</th>\n",
       "      <th>actual_review</th>\n",
       "    </tr>\n",
       "  </thead>\n",
       "  <tbody>\n",
       "    <tr>\n",
       "      <th>0</th>\n",
       "      <td>2969</td>\n",
       "      <td>visited this location for breakfast the place ...</td>\n",
       "      <td>LABEL_2</td>\n",
       "      <td>positive</td>\n",
       "      <td>0.76062</td>\n",
       "      <td>3</td>\n",
       "      <td>neutral</td>\n",
       "    </tr>\n",
       "    <tr>\n",
       "      <th>1</th>\n",
       "      <td>2970</td>\n",
       "      <td>from cleanliness to freshness to the fast cust...</td>\n",
       "      <td>LABEL_2</td>\n",
       "      <td>positive</td>\n",
       "      <td>0.829798</td>\n",
       "      <td>5</td>\n",
       "      <td>positive</td>\n",
       "    </tr>\n",
       "    <tr>\n",
       "      <th>2</th>\n",
       "      <td>2971</td>\n",
       "      <td>mcdonalds was great the food tastes like in uk...</td>\n",
       "      <td>LABEL_2</td>\n",
       "      <td>positive</td>\n",
       "      <td>0.987244</td>\n",
       "      <td>5</td>\n",
       "      <td>positive</td>\n",
       "    </tr>\n",
       "    <tr>\n",
       "      <th>3</th>\n",
       "      <td>2972</td>\n",
       "      <td>thursday at am i went in here to order a very ...</td>\n",
       "      <td>LABEL_0</td>\n",
       "      <td>negative</td>\n",
       "      <td>0.950658</td>\n",
       "      <td>1</td>\n",
       "      <td>negative</td>\n",
       "    </tr>\n",
       "    <tr>\n",
       "      <th>4</th>\n",
       "      <td>2973</td>\n",
       "      <td>it is a hr location when i arrived and tried t...</td>\n",
       "      <td>LABEL_0</td>\n",
       "      <td>negative</td>\n",
       "      <td>0.827604</td>\n",
       "      <td>1</td>\n",
       "      <td>negative</td>\n",
       "    </tr>\n",
       "  </tbody>\n",
       "</table>\n",
       "</div>"
      ],
      "text/plain": [
       "   reviewer_id                                      clean_reviews  \\\n",
       "0         2969  visited this location for breakfast the place ...   \n",
       "1         2970  from cleanliness to freshness to the fast cust...   \n",
       "2         2971  mcdonalds was great the food tastes like in uk...   \n",
       "3         2972  thursday at am i went in here to order a very ...   \n",
       "4         2973  it is a hr location when i arrived and tried t...   \n",
       "\n",
       "  RoBerta_label predicted_sentiment RoBerta_score  ratings actual_review  \n",
       "0       LABEL_2            positive       0.76062        3       neutral  \n",
       "1       LABEL_2            positive      0.829798        5      positive  \n",
       "2       LABEL_2            positive      0.987244        5      positive  \n",
       "3       LABEL_0            negative      0.950658        1      negative  \n",
       "4       LABEL_0            negative      0.827604        1      negative  "
      ]
     },
     "execution_count": 23,
     "metadata": {},
     "output_type": "execute_result"
    }
   ],
   "source": [
    "# Merge results\n",
    "df_refults = df_refults.merge(results, how='left')\n",
    "df_refults.head()"
   ]
  },
  {
   "cell_type": "code",
   "execution_count": 25,
   "metadata": {},
   "outputs": [
    {
     "data": {
      "text/plain": [
       "'it is a hr location when i arrived and tried to order use the restroom i was told the restroom was closed i said i will order right after my use of the restroom but they still rejected with rude attitude i already told them im having shivers and can'"
      ]
     },
     "execution_count": 25,
     "metadata": {},
     "output_type": "execute_result"
    }
   ],
   "source": [
    "df_refults['clean_reviews'][4]"
   ]
  },
  {
   "cell_type": "code",
   "execution_count": 26,
   "metadata": {},
   "outputs": [],
   "source": [
    "df_refults['RoBerta_score'] = df_refults['RoBerta_score'].astype(float)"
   ]
  },
  {
   "cell_type": "code",
   "execution_count": 27,
   "metadata": {},
   "outputs": [
    {
     "data": {
      "text/html": [
       "<div>\n",
       "<style scoped>\n",
       "    .dataframe tbody tr th:only-of-type {\n",
       "        vertical-align: middle;\n",
       "    }\n",
       "\n",
       "    .dataframe tbody tr th {\n",
       "        vertical-align: top;\n",
       "    }\n",
       "\n",
       "    .dataframe thead th {\n",
       "        text-align: right;\n",
       "    }\n",
       "</style>\n",
       "<table border=\"1\" class=\"dataframe\">\n",
       "  <thead>\n",
       "    <tr style=\"text-align: right;\">\n",
       "      <th></th>\n",
       "      <th>reviewer_id</th>\n",
       "      <th>clean_reviews</th>\n",
       "      <th>RoBerta_label</th>\n",
       "      <th>predicted_sentiment</th>\n",
       "      <th>RoBerta_score</th>\n",
       "      <th>ratings</th>\n",
       "      <th>actual_review</th>\n",
       "    </tr>\n",
       "  </thead>\n",
       "  <tbody>\n",
       "    <tr>\n",
       "      <th>count</th>\n",
       "      <td>3452.000000</td>\n",
       "      <td>3452</td>\n",
       "      <td>3452</td>\n",
       "      <td>3452</td>\n",
       "      <td>3452.000000</td>\n",
       "      <td>3452.000000</td>\n",
       "      <td>3452</td>\n",
       "    </tr>\n",
       "    <tr>\n",
       "      <th>unique</th>\n",
       "      <td>NaN</td>\n",
       "      <td>2608</td>\n",
       "      <td>3</td>\n",
       "      <td>3</td>\n",
       "      <td>NaN</td>\n",
       "      <td>NaN</td>\n",
       "      <td>3</td>\n",
       "    </tr>\n",
       "    <tr>\n",
       "      <th>top</th>\n",
       "      <td>NaN</td>\n",
       "      <td>excellent</td>\n",
       "      <td>LABEL_2</td>\n",
       "      <td>positive</td>\n",
       "      <td>NaN</td>\n",
       "      <td>NaN</td>\n",
       "      <td>positive</td>\n",
       "    </tr>\n",
       "    <tr>\n",
       "      <th>freq</th>\n",
       "      <td>NaN</td>\n",
       "      <td>290</td>\n",
       "      <td>1562</td>\n",
       "      <td>1562</td>\n",
       "      <td>NaN</td>\n",
       "      <td>NaN</td>\n",
       "      <td>1769</td>\n",
       "    </tr>\n",
       "    <tr>\n",
       "      <th>mean</th>\n",
       "      <td>4955.285921</td>\n",
       "      <td>NaN</td>\n",
       "      <td>NaN</td>\n",
       "      <td>NaN</td>\n",
       "      <td>0.779393</td>\n",
       "      <td>3.307937</td>\n",
       "      <td>NaN</td>\n",
       "    </tr>\n",
       "    <tr>\n",
       "      <th>std</th>\n",
       "      <td>1380.406651</td>\n",
       "      <td>NaN</td>\n",
       "      <td>NaN</td>\n",
       "      <td>NaN</td>\n",
       "      <td>0.174191</td>\n",
       "      <td>1.496801</td>\n",
       "      <td>NaN</td>\n",
       "    </tr>\n",
       "    <tr>\n",
       "      <th>min</th>\n",
       "      <td>2969.000000</td>\n",
       "      <td>NaN</td>\n",
       "      <td>NaN</td>\n",
       "      <td>NaN</td>\n",
       "      <td>0.360394</td>\n",
       "      <td>1.000000</td>\n",
       "      <td>NaN</td>\n",
       "    </tr>\n",
       "    <tr>\n",
       "      <th>25%</th>\n",
       "      <td>3839.750000</td>\n",
       "      <td>NaN</td>\n",
       "      <td>NaN</td>\n",
       "      <td>NaN</td>\n",
       "      <td>0.628040</td>\n",
       "      <td>2.000000</td>\n",
       "      <td>NaN</td>\n",
       "    </tr>\n",
       "    <tr>\n",
       "      <th>50%</th>\n",
       "      <td>4707.500000</td>\n",
       "      <td>NaN</td>\n",
       "      <td>NaN</td>\n",
       "      <td>NaN</td>\n",
       "      <td>0.833306</td>\n",
       "      <td>4.000000</td>\n",
       "      <td>NaN</td>\n",
       "    </tr>\n",
       "    <tr>\n",
       "      <th>75%</th>\n",
       "      <td>6144.250000</td>\n",
       "      <td>NaN</td>\n",
       "      <td>NaN</td>\n",
       "      <td>NaN</td>\n",
       "      <td>0.935812</td>\n",
       "      <td>5.000000</td>\n",
       "      <td>NaN</td>\n",
       "    </tr>\n",
       "    <tr>\n",
       "      <th>max</th>\n",
       "      <td>10090.000000</td>\n",
       "      <td>NaN</td>\n",
       "      <td>NaN</td>\n",
       "      <td>NaN</td>\n",
       "      <td>0.992179</td>\n",
       "      <td>5.000000</td>\n",
       "      <td>NaN</td>\n",
       "    </tr>\n",
       "  </tbody>\n",
       "</table>\n",
       "</div>"
      ],
      "text/plain": [
       "         reviewer_id clean_reviews RoBerta_label predicted_sentiment  \\\n",
       "count    3452.000000          3452          3452                3452   \n",
       "unique           NaN          2608             3                   3   \n",
       "top              NaN     excellent       LABEL_2            positive   \n",
       "freq             NaN           290          1562                1562   \n",
       "mean     4955.285921           NaN           NaN                 NaN   \n",
       "std      1380.406651           NaN           NaN                 NaN   \n",
       "min      2969.000000           NaN           NaN                 NaN   \n",
       "25%      3839.750000           NaN           NaN                 NaN   \n",
       "50%      4707.500000           NaN           NaN                 NaN   \n",
       "75%      6144.250000           NaN           NaN                 NaN   \n",
       "max     10090.000000           NaN           NaN                 NaN   \n",
       "\n",
       "        RoBerta_score      ratings actual_review  \n",
       "count     3452.000000  3452.000000          3452  \n",
       "unique            NaN          NaN             3  \n",
       "top               NaN          NaN      positive  \n",
       "freq              NaN          NaN          1769  \n",
       "mean         0.779393     3.307937           NaN  \n",
       "std          0.174191     1.496801           NaN  \n",
       "min          0.360394     1.000000           NaN  \n",
       "25%          0.628040     2.000000           NaN  \n",
       "50%          0.833306     4.000000           NaN  \n",
       "75%          0.935812     5.000000           NaN  \n",
       "max          0.992179     5.000000           NaN  "
      ]
     },
     "execution_count": 27,
     "metadata": {},
     "output_type": "execute_result"
    }
   ],
   "source": [
    "df_refults.describe(include='all')"
   ]
  },
  {
   "cell_type": "code",
   "execution_count": 28,
   "metadata": {},
   "outputs": [
    {
     "name": "stdout",
     "output_type": "stream",
     "text": [
      "   RoBerta_score predicted_sentiment actual_review\n",
      "0       0.760620            positive       neutral\n",
      "1       0.829798            positive      positive\n",
      "2       0.987244            positive      positive\n",
      "3       0.950658            negative      negative\n",
      "4       0.827604            negative      negative\n",
      "5       0.907027            negative      negative\n",
      "6       0.684998            negative      negative\n",
      "7       0.957730            positive      positive\n",
      "8       0.754097            negative      negative\n",
      "9       0.974456            negative      negative\n"
     ]
    }
   ],
   "source": [
    "print(df_refults[['RoBerta_score', 'predicted_sentiment', 'actual_review']].head(10))"
   ]
  },
  {
   "cell_type": "code",
   "execution_count": 29,
   "metadata": {},
   "outputs": [],
   "source": [
    "# Function to calculate accuracy\n",
    "def calculate_accuracy(predicted_labels, actual_labels):\n",
    "    correct = 0\n",
    "    total = 0\n",
    "    for pred, actual in zip(predicted_labels, actual_labels):\n",
    "        if pred is not None:  \n",
    "            total += 1\n",
    "            if pred.lower() == actual.lower():  \n",
    "                correct += 1\n",
    "    return correct / total if total > 0 else 0.0  "
   ]
  },
  {
   "cell_type": "code",
   "execution_count": 30,
   "metadata": {},
   "outputs": [
    {
     "name": "stdout",
     "output_type": "stream",
     "text": [
      "Model Accuracy: 0.75\n"
     ]
    }
   ],
   "source": [
    "# Calculate accuracy\n",
    "accuracy = calculate_accuracy(df_refults['predicted_sentiment'], df_refults['actual_review'])\n",
    "print(f\"Model Accuracy: {accuracy:.2f}\")"
   ]
  },
  {
   "cell_type": "code",
   "execution_count": 31,
   "metadata": {},
   "outputs": [],
   "source": [
    "df_refults['correct_prediction'] = df_refults.apply(\n",
    "    lambda row: True if row['predicted_sentiment'] == row['actual_review'] else False,\n",
    "    axis=1\n",
    ")"
   ]
  },
  {
   "cell_type": "code",
   "execution_count": 32,
   "metadata": {},
   "outputs": [
    {
     "data": {
      "image/png": "[encoded data removed]",
      "text/plain": [
       "<Figure size 600x400 with 1 Axes>"
      ]
     },
     "metadata": {},
     "output_type": "display_data"
    }
   ],
   "source": [
    "# Calculate percentage\n",
    "percentage = df_refults['correct_prediction'].value_counts(normalize=True)\n",
    "\n",
    "# Plot\n",
    "plt.figure(figsize=(6, 4))\n",
    "bars = plt.bar(percentage.index.astype(str), percentage.values)\n",
    "\n",
    "# Add percentage labels on top of bars\n",
    "for bar in bars:\n",
    "    height = bar.get_height()\n",
    "    plt.text(\n",
    "        bar.get_x() + bar.get_width() / 2,\n",
    "        height,\n",
    "        f'{height:.2%}',\n",
    "        ha='center', va='bottom', fontsize=12\n",
    "    )\n",
    "\n",
    "plt.xlabel('Correct Prediction')\n",
    "plt.ylabel('percentage')\n",
    "plt.title('Correct vs Incorrect Predictions')\n",
    "plt.ylim(0, 1)\n",
    "plt.show()\n"
   ]
  },
  {
   "cell_type": "code",
   "execution_count": 33,
   "metadata": {},
   "outputs": [
    {
     "data": {
      "image/png": "[encoded data removed]",
      "text/plain": [
       "<Figure size 800x500 with 1 Axes>"
      ]
     },
     "metadata": {},
     "output_type": "display_data"
    }
   ],
   "source": [
    "# List of sentiments\n",
    "sentiment = ['positive', 'neutral','negative']\n",
    "\n",
    "# Calculation proportions\n",
    "total_predicted = df_refults['predicted_sentiment'].value_counts(normalize=True)\n",
    "total_actual = df_refults['actual_review'].value_counts(normalize=True)\n",
    "\n",
    "predicted_props = [total_predicted.get(label, 0) for label in sentiment]\n",
    "actual_props = [total_actual.get(label, 0) for label in sentiment]\n",
    "\n",
    "# Bar\n",
    "x = range(len(sentiment))\n",
    "bar_width = 0.35\n",
    "\n",
    "# Plot\n",
    "plt.figure(figsize=(8, 5))\n",
    "bars1 = plt.bar([i - bar_width/2 for i in x], predicted_props, width=bar_width, label='Predicted')\n",
    "bars2 = plt.bar([i + bar_width/2 for i in x], actual_props, width=bar_width, label='Actual')\n",
    "\n",
    "# Add percentage labels on top of bars\n",
    "for bars in [bars1, bars2]:\n",
    "    for bar in bars:\n",
    "        height = bar.get_height()\n",
    "        plt.text(\n",
    "            bar.get_x() + bar.get_width()/2,\n",
    "            height,\n",
    "            f'{height:.2%}',\n",
    "            ha='center', va='bottom', fontsize=10\n",
    "        )\n",
    "\n",
    "plt.xticks(ticks=x, labels=sentiment)\n",
    "plt.ylabel('Percentage')\n",
    "plt.ylim(0, 1)\n",
    "plt.title('Predicted vs Actual Sentiment')\n",
    "plt.legend()\n",
    "plt.tight_layout()\n",
    "plt.show()\n"
   ]
  }
 ],
 "metadata": {
  "colab": {
   "authorship_tag": "ABX9TyOC+FOVnGLUHu5M39MvxnHx",
   "provenance": []
  },
  "kernelspec": {
   "display_name": "Python 3",
   "name": "python3"
  },
  "language_info": {
   "name": "python"
  }
 },
 "nbformat": 4,
 "nbformat_minor": 0
}
