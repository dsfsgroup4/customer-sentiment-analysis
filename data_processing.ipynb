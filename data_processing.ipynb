{
 "cells": [
  {
   "cell_type": "markdown",
   "metadata": {},
   "source": [
    "## Data Processing of Mcdonald's restaurants reviews"
   ]
  },
  {
   "cell_type": "markdown",
   "metadata": {},
   "source": [
    "### Import utilities"
   ]
  },
  {
   "cell_type": "code",
   "execution_count": 57,
   "metadata": {},
   "outputs": [],
   "source": [
    "import pandas as pd\n",
    "import zipfile\n",
    "import re\n",
    "\n",
    "from dateutil.relativedelta import relativedelta"
   ]
  },
  {
   "cell_type": "markdown",
   "metadata": {},
   "source": [
    "### Extract dataset from Kaggle"
   ]
  },
  {
   "cell_type": "code",
   "execution_count": null,
   "metadata": {},
   "outputs": [],
   "source": [
    "! pip install -q kaggle\n",
    "! pip install -q kaggle-cli"
   ]
  },
  {
   "cell_type": "code",
   "execution_count": 65,
   "metadata": {},
   "outputs": [
    {
     "name": "stdout",
     "output_type": "stream",
     "text": [
      "{\"username\":\"yonapqt\",\"key\":\"9e373e65c58e47cd242b60485f5a9729\"}"
     ]
    }
   ],
   "source": [
    "# Set access to Kaggle API\n",
    "! mkdir -p ~/.kaggle\n",
    "! cp \"/teamspace/studios/this_studio/PROJECT_FINAL/.kaggle/kaggle.json\" ~/.kaggle/\n",
    "! cat ~/.kaggle/kaggle.json\n",
    "\n",
    "! chmod 600 /teamspace/studios/this_studio/PROJECT_FINAL/.kaggle/kaggle.json"
   ]
  },
  {
   "cell_type": "code",
   "execution_count": 66,
   "metadata": {},
   "outputs": [
    {
     "name": "stdout",
     "output_type": "stream",
     "text": [
      "Dataset URL: https://www.kaggle.com/datasets/nelgiriyewithana/mcdonalds-store-reviews\n",
      "License(s): other\n",
      "mcdonalds-store-reviews.zip: Skipping, found more recently modified local copy (use --force to force download)\n"
     ]
    }
   ],
   "source": [
    "# Download the dataset Mcdonals\n",
    "! kaggle datasets download -d nelgiriyewithana/mcdonalds-store-reviews"
   ]
  },
  {
   "cell_type": "code",
   "execution_count": 67,
   "metadata": {},
   "outputs": [],
   "source": [
    "# Unzip the dataset\n",
    "with zipfile.ZipFile('/teamspace/studios/this_studio/PROJECT_FINAL/mcdonalds-store-reviews.zip', 'r') as zip_ref:\n",
    "    zip_ref.extractall('/teamspace/studios/this_studio/PROJECT_FINAL/mcdonalds_reviews')\n",
    "\n",
    "# Load the CSV file\n",
    "data = pd.read_csv('/teamspace/studios/this_studio/PROJECT_FINAL/mcdonalds_reviews/McDonald_s_Reviews.csv', encoding='latin1', encoding_errors='replace')"
   ]
  },
  {
   "cell_type": "code",
   "execution_count": 68,
   "metadata": {},
   "outputs": [],
   "source": [
    "df1 = data.copy()"
   ]
  },
  {
   "cell_type": "markdown",
   "metadata": {},
   "source": [
    "## Feature engineering"
   ]
  },
  {
   "cell_type": "markdown",
   "metadata": {},
   "source": [
    "### Feauture engineering on review_time column"
   ]
  },
  {
   "cell_type": "code",
   "execution_count": 69,
   "metadata": {},
   "outputs": [
    {
     "data": {
      "text/html": [
       "<div>\n",
       "<style scoped>\n",
       "    .dataframe tbody tr th:only-of-type {\n",
       "        vertical-align: middle;\n",
       "    }\n",
       "\n",
       "    .dataframe tbody tr th {\n",
       "        vertical-align: top;\n",
       "    }\n",
       "\n",
       "    .dataframe thead th {\n",
       "        text-align: right;\n",
       "    }\n",
       "</style>\n",
       "<table border=\"1\" class=\"dataframe\">\n",
       "  <thead>\n",
       "    <tr style=\"text-align: right;\">\n",
       "      <th></th>\n",
       "      <th>reviewer_id</th>\n",
       "      <th>store_name</th>\n",
       "      <th>category</th>\n",
       "      <th>store_address</th>\n",
       "      <th>latitude</th>\n",
       "      <th>longitude</th>\n",
       "      <th>rating_count</th>\n",
       "      <th>review</th>\n",
       "      <th>rating</th>\n",
       "      <th>review_date</th>\n",
       "    </tr>\n",
       "  </thead>\n",
       "  <tbody>\n",
       "    <tr>\n",
       "      <th>0</th>\n",
       "      <td>1</td>\n",
       "      <td>McDonald's</td>\n",
       "      <td>Fast food restaurant</td>\n",
       "      <td>13749 US-183 Hwy, Austin, TX 78750, United States</td>\n",
       "      <td>30.460718</td>\n",
       "      <td>-97.792874</td>\n",
       "      <td>1,240</td>\n",
       "      <td>Why does it look like someone spit on my food?...</td>\n",
       "      <td>1 star</td>\n",
       "      <td>2025-01-05</td>\n",
       "    </tr>\n",
       "    <tr>\n",
       "      <th>1</th>\n",
       "      <td>2</td>\n",
       "      <td>McDonald's</td>\n",
       "      <td>Fast food restaurant</td>\n",
       "      <td>13749 US-183 Hwy, Austin, TX 78750, United States</td>\n",
       "      <td>30.460718</td>\n",
       "      <td>-97.792874</td>\n",
       "      <td>1,240</td>\n",
       "      <td>It'd McDonalds. It is what it is as far as the...</td>\n",
       "      <td>4 stars</td>\n",
       "      <td>2025-03-31</td>\n",
       "    </tr>\n",
       "    <tr>\n",
       "      <th>2</th>\n",
       "      <td>3</td>\n",
       "      <td>McDonald's</td>\n",
       "      <td>Fast food restaurant</td>\n",
       "      <td>13749 US-183 Hwy, Austin, TX 78750, United States</td>\n",
       "      <td>30.460718</td>\n",
       "      <td>-97.792874</td>\n",
       "      <td>1,240</td>\n",
       "      <td>Made a mobile order got to the speaker and che...</td>\n",
       "      <td>1 star</td>\n",
       "      <td>2025-03-31</td>\n",
       "    </tr>\n",
       "    <tr>\n",
       "      <th>3</th>\n",
       "      <td>4</td>\n",
       "      <td>McDonald's</td>\n",
       "      <td>Fast food restaurant</td>\n",
       "      <td>13749 US-183 Hwy, Austin, TX 78750, United States</td>\n",
       "      <td>30.460718</td>\n",
       "      <td>-97.792874</td>\n",
       "      <td>1,240</td>\n",
       "      <td>My mc. Crispy chicken sandwich was ï¿½ï¿½ï¿½ï¿...</td>\n",
       "      <td>5 stars</td>\n",
       "      <td>2025-03-05</td>\n",
       "    </tr>\n",
       "    <tr>\n",
       "      <th>4</th>\n",
       "      <td>5</td>\n",
       "      <td>McDonald's</td>\n",
       "      <td>Fast food restaurant</td>\n",
       "      <td>13749 US-183 Hwy, Austin, TX 78750, United States</td>\n",
       "      <td>30.460718</td>\n",
       "      <td>-97.792874</td>\n",
       "      <td>1,240</td>\n",
       "      <td>I repeat my order 3 times in the drive thru, a...</td>\n",
       "      <td>1 star</td>\n",
       "      <td>2025-02-05</td>\n",
       "    </tr>\n",
       "  </tbody>\n",
       "</table>\n",
       "</div>"
      ],
      "text/plain": [
       "   reviewer_id  store_name              category  \\\n",
       "0            1  McDonald's  Fast food restaurant   \n",
       "1            2  McDonald's  Fast food restaurant   \n",
       "2            3  McDonald's  Fast food restaurant   \n",
       "3            4  McDonald's  Fast food restaurant   \n",
       "4            5  McDonald's  Fast food restaurant   \n",
       "\n",
       "                                       store_address  latitude   longitude  \\\n",
       "0  13749 US-183 Hwy, Austin, TX 78750, United States  30.460718 -97.792874   \n",
       "1  13749 US-183 Hwy, Austin, TX 78750, United States  30.460718 -97.792874   \n",
       "2  13749 US-183 Hwy, Austin, TX 78750, United States  30.460718 -97.792874   \n",
       "3  13749 US-183 Hwy, Austin, TX 78750, United States  30.460718 -97.792874   \n",
       "4  13749 US-183 Hwy, Austin, TX 78750, United States  30.460718 -97.792874   \n",
       "\n",
       "  rating_count                                             review   rating  \\\n",
       "0        1,240  Why does it look like someone spit on my food?...   1 star   \n",
       "1        1,240  It'd McDonalds. It is what it is as far as the...  4 stars   \n",
       "2        1,240  Made a mobile order got to the speaker and che...   1 star   \n",
       "3        1,240  My mc. Crispy chicken sandwich was ï¿½ï¿½ï¿½ï¿...  5 stars   \n",
       "4        1,240  I repeat my order 3 times in the drive thru, a...   1 star   \n",
       "\n",
       "  review_date  \n",
       "0  2025-01-05  \n",
       "1  2025-03-31  \n",
       "2  2025-03-31  \n",
       "3  2025-03-05  \n",
       "4  2025-02-05  "
      ]
     },
     "execution_count": 69,
     "metadata": {},
     "output_type": "execute_result"
    }
   ],
   "source": [
    "# Create function to parse the column review_time with the current date\n",
    "def parse_relative_date(s, current_date):\n",
    "\n",
    "    parts = s.strip().split()\n",
    "    if len(parts) != 3:\n",
    "        return None\n",
    "\n",
    "    # This checks if the number is represented as \"a\" or \"an\" , as shown the dataset\n",
    "    # we have columns that says a monthh ago which equivalent to 1 month ago\n",
    "    num_str = parts[0].lower()\n",
    "    if num_str in ['a', 'an']:\n",
    "        num = 1\n",
    "    else:\n",
    "        try:\n",
    "            num = int(num_str)\n",
    "        except ValueError:\n",
    "            return None\n",
    "\n",
    "    unit = parts[1].lower()\n",
    "\n",
    "    # This adjusts the current date based on the chosen unit\n",
    "    if 'day' in unit:\n",
    "        abs_date = current_date - pd.Timedelta(days=num)\n",
    "    elif 'month' in unit:\n",
    "        abs_date = current_date - relativedelta(months=num)\n",
    "    elif 'year' in unit:\n",
    "        abs_date = current_date - relativedelta(years=num)\n",
    "    else:\n",
    "        return None\n",
    "\n",
    "    # Normalize to remove the time (sets time to 00:00:00)\n",
    "    return abs_date.normalize()\n",
    "\n",
    "# Current date timestamp\n",
    "current_date = pd.Timestamp.now()\n",
    "\n",
    "# Apply the function to create a new column with the actual dates\n",
    "df1['review_date'] = df1['review_time'].apply(lambda x: parse_relative_date(x, current_date))\n",
    "\n",
    "# Drop the column df1['review_time']\n",
    "df1 = df1.drop(columns='review_time')\n",
    "df1.head()\n"
   ]
  },
  {
   "cell_type": "markdown",
   "metadata": {},
   "source": [
    "### Feauture engineering on store_address column"
   ]
  },
  {
   "cell_type": "code",
   "execution_count": 70,
   "metadata": {},
   "outputs": [
    {
     "data": {
      "text/html": [
       "<div>\n",
       "<style scoped>\n",
       "    .dataframe tbody tr th:only-of-type {\n",
       "        vertical-align: middle;\n",
       "    }\n",
       "\n",
       "    .dataframe tbody tr th {\n",
       "        vertical-align: top;\n",
       "    }\n",
       "\n",
       "    .dataframe thead th {\n",
       "        text-align: right;\n",
       "    }\n",
       "</style>\n",
       "<table border=\"1\" class=\"dataframe\">\n",
       "  <thead>\n",
       "    <tr style=\"text-align: right;\">\n",
       "      <th></th>\n",
       "      <th>reviewer_id</th>\n",
       "      <th>store_name</th>\n",
       "      <th>category</th>\n",
       "      <th>latitude</th>\n",
       "      <th>longitude</th>\n",
       "      <th>rating_count</th>\n",
       "      <th>review</th>\n",
       "      <th>rating</th>\n",
       "      <th>review_date</th>\n",
       "      <th>City</th>\n",
       "      <th>State</th>\n",
       "    </tr>\n",
       "  </thead>\n",
       "  <tbody>\n",
       "    <tr>\n",
       "      <th>0</th>\n",
       "      <td>1</td>\n",
       "      <td>McDonald's</td>\n",
       "      <td>Fast food restaurant</td>\n",
       "      <td>30.460718</td>\n",
       "      <td>-97.792874</td>\n",
       "      <td>1,240</td>\n",
       "      <td>Why does it look like someone spit on my food?...</td>\n",
       "      <td>1 star</td>\n",
       "      <td>2025-01-05</td>\n",
       "      <td>Austin</td>\n",
       "      <td>TX 78750</td>\n",
       "    </tr>\n",
       "    <tr>\n",
       "      <th>1</th>\n",
       "      <td>2</td>\n",
       "      <td>McDonald's</td>\n",
       "      <td>Fast food restaurant</td>\n",
       "      <td>30.460718</td>\n",
       "      <td>-97.792874</td>\n",
       "      <td>1,240</td>\n",
       "      <td>It'd McDonalds. It is what it is as far as the...</td>\n",
       "      <td>4 stars</td>\n",
       "      <td>2025-03-31</td>\n",
       "      <td>Austin</td>\n",
       "      <td>TX 78750</td>\n",
       "    </tr>\n",
       "    <tr>\n",
       "      <th>2</th>\n",
       "      <td>3</td>\n",
       "      <td>McDonald's</td>\n",
       "      <td>Fast food restaurant</td>\n",
       "      <td>30.460718</td>\n",
       "      <td>-97.792874</td>\n",
       "      <td>1,240</td>\n",
       "      <td>Made a mobile order got to the speaker and che...</td>\n",
       "      <td>1 star</td>\n",
       "      <td>2025-03-31</td>\n",
       "      <td>Austin</td>\n",
       "      <td>TX 78750</td>\n",
       "    </tr>\n",
       "    <tr>\n",
       "      <th>3</th>\n",
       "      <td>4</td>\n",
       "      <td>McDonald's</td>\n",
       "      <td>Fast food restaurant</td>\n",
       "      <td>30.460718</td>\n",
       "      <td>-97.792874</td>\n",
       "      <td>1,240</td>\n",
       "      <td>My mc. Crispy chicken sandwich was ï¿½ï¿½ï¿½ï¿...</td>\n",
       "      <td>5 stars</td>\n",
       "      <td>2025-03-05</td>\n",
       "      <td>Austin</td>\n",
       "      <td>TX 78750</td>\n",
       "    </tr>\n",
       "    <tr>\n",
       "      <th>4</th>\n",
       "      <td>5</td>\n",
       "      <td>McDonald's</td>\n",
       "      <td>Fast food restaurant</td>\n",
       "      <td>30.460718</td>\n",
       "      <td>-97.792874</td>\n",
       "      <td>1,240</td>\n",
       "      <td>I repeat my order 3 times in the drive thru, a...</td>\n",
       "      <td>1 star</td>\n",
       "      <td>2025-02-05</td>\n",
       "      <td>Austin</td>\n",
       "      <td>TX 78750</td>\n",
       "    </tr>\n",
       "  </tbody>\n",
       "</table>\n",
       "</div>"
      ],
      "text/plain": [
       "   reviewer_id  store_name              category  latitude   longitude  \\\n",
       "0            1  McDonald's  Fast food restaurant  30.460718 -97.792874   \n",
       "1            2  McDonald's  Fast food restaurant  30.460718 -97.792874   \n",
       "2            3  McDonald's  Fast food restaurant  30.460718 -97.792874   \n",
       "3            4  McDonald's  Fast food restaurant  30.460718 -97.792874   \n",
       "4            5  McDonald's  Fast food restaurant  30.460718 -97.792874   \n",
       "\n",
       "  rating_count                                             review   rating  \\\n",
       "0        1,240  Why does it look like someone spit on my food?...   1 star   \n",
       "1        1,240  It'd McDonalds. It is what it is as far as the...  4 stars   \n",
       "2        1,240  Made a mobile order got to the speaker and che...   1 star   \n",
       "3        1,240  My mc. Crispy chicken sandwich was ï¿½ï¿½ï¿½ï¿...  5 stars   \n",
       "4        1,240  I repeat my order 3 times in the drive thru, a...   1 star   \n",
       "\n",
       "  review_date    City     State  \n",
       "0  2025-01-05  Austin  TX 78750  \n",
       "1  2025-03-31  Austin  TX 78750  \n",
       "2  2025-03-31  Austin  TX 78750  \n",
       "3  2025-03-05  Austin  TX 78750  \n",
       "4  2025-02-05  Austin  TX 78750  "
      ]
     },
     "execution_count": 70,
     "metadata": {},
     "output_type": "execute_result"
    }
   ],
   "source": [
    "df1[['City', 'State']] = df1['store_address'].apply(lambda x: pd.Series(x.split(', ')[-3:-1]))\n",
    "\n",
    "# Drop the column df1['store_address']\n",
    "df1 = df1.drop(columns='store_address')\n",
    "df1.head()"
   ]
  },
  {
   "cell_type": "code",
   "execution_count": 71,
   "metadata": {},
   "outputs": [],
   "source": [
    "# Remove the 'star' in the column rating \n",
    "df1[\"rating\"] = (df1[\"rating\"].str.split(\" \").str[0].astype(int))"
   ]
  },
  {
   "cell_type": "markdown",
   "metadata": {},
   "source": [
    "### Drop unnecessary columns"
   ]
  },
  {
   "cell_type": "code",
   "execution_count": 72,
   "metadata": {},
   "outputs": [],
   "source": [
    "# Drop columns, 'store_name', 'category','rating_count'\n",
    "df1 = df1.drop(columns=['store_name', 'category','rating_count'])"
   ]
  },
  {
   "cell_type": "code",
   "execution_count": 73,
   "metadata": {},
   "outputs": [
    {
     "data": {
      "text/plain": [
       "Index(['reviewer_id', 'latitude ', 'longitude', 'review', 'rating',\n",
       "       'review_date', 'City', 'State'],\n",
       "      dtype='object')"
      ]
     },
     "execution_count": 73,
     "metadata": {},
     "output_type": "execute_result"
    }
   ],
   "source": [
    "df1.columns"
   ]
  },
  {
   "cell_type": "markdown",
   "metadata": {},
   "source": [
    "## Check unique values and duplicates"
   ]
  },
  {
   "cell_type": "code",
   "execution_count": 74,
   "metadata": {},
   "outputs": [
    {
     "name": "stdout",
     "output_type": "stream",
     "text": [
      "reviewer_id    33396\n",
      "latitude          39\n",
      "longitude         39\n",
      "review         22285\n",
      "rating             5\n",
      "review_date       29\n",
      "City              26\n",
      "State             36\n",
      "dtype: int64\n"
     ]
    }
   ],
   "source": [
    "# Check unique values\n",
    "columns_to_check = ['reviewer_id', 'latitude ', 'longitude', 'review', 'rating',\n",
    "                    'review_date', 'City', 'State']\n",
    "\n",
    "unique_counts = df1[columns_to_check].nunique()\n",
    "\n",
    "print(unique_counts)"
   ]
  },
  {
   "cell_type": "code",
   "execution_count": 75,
   "metadata": {},
   "outputs": [
    {
     "name": "stdout",
     "output_type": "stream",
     "text": [
      "Total duplicate rows: 0\n"
     ]
    }
   ],
   "source": [
    "# Check for duplicates\n",
    "\n",
    "duplicate_rows = df1[df1.duplicated()]\n",
    "print(f\"Total duplicate rows: {duplicate_rows.shape[0]}\")\n"
   ]
  },
  {
   "cell_type": "markdown",
   "metadata": {},
   "source": [
    "## Clean column 'review' and remove special characters"
   ]
  },
  {
   "cell_type": "code",
   "execution_count": 76,
   "metadata": {},
   "outputs": [],
   "source": [
    "df2 = df1.copy()"
   ]
  },
  {
   "cell_type": "code",
   "execution_count": 77,
   "metadata": {},
   "outputs": [
    {
     "name": "stdout",
     "output_type": "stream",
     "text": [
      "                                           clean_reviews\n",
      "0      Why does it look like someone spit on my food ...\n",
      "1      Itd McDonalds It is what it is as far as the f...\n",
      "2      Made a mobile order got to the speaker and che...\n",
      "3      My mc Crispy chicken sandwich was customer ser...\n",
      "4      I repeat my order times in the drive thru and ...\n",
      "...                                                  ...\n",
      "33391                         They treated me very badly\n",
      "33392                           The service is very good\n",
      "33393                         To remove hunger is enough\n",
      "33394   Its good but lately it has become very expensive\n",
      "33395                          they took good care of me\n",
      "\n",
      "[33396 rows x 1 columns]\n"
     ]
    }
   ],
   "source": [
    "# Create function to remove special characters in the review column\n",
    "def clean_review(review):\n",
    "    #review = review.lower()\n",
    "    review = review.replace('½ï', '').replace('ý', '')\n",
    "    review = re.sub(r'[^a-zA-Z\\s]', '', review)\n",
    "    review = re.sub(r'\\s+', ' ', review).strip()\n",
    "    return review\n",
    "\n",
    "df2['clean_reviews'] = df2['review'].apply(clean_review)\n",
    "\n",
    "print(df2[['clean_reviews']])"
   ]
  },
  {
   "cell_type": "markdown",
   "metadata": {},
   "source": [
    "## Create new colum 'actual_sentiment' and assign sentiments(negative, positive and neutral) for each rating"
   ]
  },
  {
   "cell_type": "code",
   "execution_count": 78,
   "metadata": {},
   "outputs": [],
   "source": [
    "# Function to add column for the actual review: positive : ratings > 3,\n",
    "# neutral: ratings == 3, negative : ratings <3.\n",
    "def actual_sentiment(data):\n",
    "    if data['rating'] > 3:\n",
    "        return \"positive\" \n",
    "    elif data[\"rating\"] == 3:\n",
    "        return \"neutral\"\n",
    "    else:\n",
    "        return \"negative\"\n",
    "\n",
    "# Apply the function to each row\n",
    "df2['actual_sentiment'] = df2.apply(actual_sentiment, axis=1)"
   ]
  },
  {
   "cell_type": "code",
   "execution_count": 79,
   "metadata": {},
   "outputs": [],
   "source": [
    "# Drop columns 'review'\n",
    "df2 = df2.drop(columns='review')"
   ]
  },
  {
   "cell_type": "code",
   "execution_count": 80,
   "metadata": {},
   "outputs": [
    {
     "data": {
      "text/html": [
       "<div>\n",
       "<style scoped>\n",
       "    .dataframe tbody tr th:only-of-type {\n",
       "        vertical-align: middle;\n",
       "    }\n",
       "\n",
       "    .dataframe tbody tr th {\n",
       "        vertical-align: top;\n",
       "    }\n",
       "\n",
       "    .dataframe thead th {\n",
       "        text-align: right;\n",
       "    }\n",
       "</style>\n",
       "<table border=\"1\" class=\"dataframe\">\n",
       "  <thead>\n",
       "    <tr style=\"text-align: right;\">\n",
       "      <th></th>\n",
       "      <th>reviewer_id</th>\n",
       "      <th>latitude</th>\n",
       "      <th>longitude</th>\n",
       "      <th>rating</th>\n",
       "      <th>review_date</th>\n",
       "      <th>City</th>\n",
       "      <th>State</th>\n",
       "      <th>clean_reviews</th>\n",
       "      <th>actual_sentiment</th>\n",
       "    </tr>\n",
       "  </thead>\n",
       "  <tbody>\n",
       "    <tr>\n",
       "      <th>0</th>\n",
       "      <td>1</td>\n",
       "      <td>30.460718</td>\n",
       "      <td>-97.792874</td>\n",
       "      <td>1</td>\n",
       "      <td>2025-01-05</td>\n",
       "      <td>Austin</td>\n",
       "      <td>TX 78750</td>\n",
       "      <td>Why does it look like someone spit on my food ...</td>\n",
       "      <td>negative</td>\n",
       "    </tr>\n",
       "    <tr>\n",
       "      <th>1</th>\n",
       "      <td>2</td>\n",
       "      <td>30.460718</td>\n",
       "      <td>-97.792874</td>\n",
       "      <td>4</td>\n",
       "      <td>2025-03-31</td>\n",
       "      <td>Austin</td>\n",
       "      <td>TX 78750</td>\n",
       "      <td>Itd McDonalds It is what it is as far as the f...</td>\n",
       "      <td>positive</td>\n",
       "    </tr>\n",
       "    <tr>\n",
       "      <th>2</th>\n",
       "      <td>3</td>\n",
       "      <td>30.460718</td>\n",
       "      <td>-97.792874</td>\n",
       "      <td>1</td>\n",
       "      <td>2025-03-31</td>\n",
       "      <td>Austin</td>\n",
       "      <td>TX 78750</td>\n",
       "      <td>Made a mobile order got to the speaker and che...</td>\n",
       "      <td>negative</td>\n",
       "    </tr>\n",
       "    <tr>\n",
       "      <th>3</th>\n",
       "      <td>4</td>\n",
       "      <td>30.460718</td>\n",
       "      <td>-97.792874</td>\n",
       "      <td>5</td>\n",
       "      <td>2025-03-05</td>\n",
       "      <td>Austin</td>\n",
       "      <td>TX 78750</td>\n",
       "      <td>My mc Crispy chicken sandwich was customer ser...</td>\n",
       "      <td>positive</td>\n",
       "    </tr>\n",
       "    <tr>\n",
       "      <th>4</th>\n",
       "      <td>5</td>\n",
       "      <td>30.460718</td>\n",
       "      <td>-97.792874</td>\n",
       "      <td>1</td>\n",
       "      <td>2025-02-05</td>\n",
       "      <td>Austin</td>\n",
       "      <td>TX 78750</td>\n",
       "      <td>I repeat my order times in the drive thru and ...</td>\n",
       "      <td>negative</td>\n",
       "    </tr>\n",
       "  </tbody>\n",
       "</table>\n",
       "</div>"
      ],
      "text/plain": [
       "   reviewer_id  latitude   longitude  rating review_date    City     State  \\\n",
       "0            1  30.460718 -97.792874       1  2025-01-05  Austin  TX 78750   \n",
       "1            2  30.460718 -97.792874       4  2025-03-31  Austin  TX 78750   \n",
       "2            3  30.460718 -97.792874       1  2025-03-31  Austin  TX 78750   \n",
       "3            4  30.460718 -97.792874       5  2025-03-05  Austin  TX 78750   \n",
       "4            5  30.460718 -97.792874       1  2025-02-05  Austin  TX 78750   \n",
       "\n",
       "                                       clean_reviews actual_sentiment  \n",
       "0  Why does it look like someone spit on my food ...         negative  \n",
       "1  Itd McDonalds It is what it is as far as the f...         positive  \n",
       "2  Made a mobile order got to the speaker and che...         negative  \n",
       "3  My mc Crispy chicken sandwich was customer ser...         positive  \n",
       "4  I repeat my order times in the drive thru and ...         negative  "
      ]
     },
     "execution_count": 80,
     "metadata": {},
     "output_type": "execute_result"
    }
   ],
   "source": [
    "df2.head()"
   ]
  },
  {
   "cell_type": "markdown",
   "metadata": {},
   "source": [
    "## Check duplicates in the 'clean_review' column"
   ]
  },
  {
   "cell_type": "code",
   "execution_count": 81,
   "metadata": {},
   "outputs": [
    {
     "name": "stdout",
     "output_type": "stream",
     "text": [
      "Total duplicate reviews: 11581\n"
     ]
    },
    {
     "data": {
      "text/html": [
       "<div>\n",
       "<style scoped>\n",
       "    .dataframe tbody tr th:only-of-type {\n",
       "        vertical-align: middle;\n",
       "    }\n",
       "\n",
       "    .dataframe tbody tr th {\n",
       "        vertical-align: top;\n",
       "    }\n",
       "\n",
       "    .dataframe thead th {\n",
       "        text-align: right;\n",
       "    }\n",
       "</style>\n",
       "<table border=\"1\" class=\"dataframe\">\n",
       "  <thead>\n",
       "    <tr style=\"text-align: right;\">\n",
       "      <th></th>\n",
       "      <th>reviewer_id</th>\n",
       "      <th>latitude</th>\n",
       "      <th>longitude</th>\n",
       "      <th>rating</th>\n",
       "      <th>review_date</th>\n",
       "      <th>City</th>\n",
       "      <th>State</th>\n",
       "      <th>clean_reviews</th>\n",
       "      <th>actual_sentiment</th>\n",
       "    </tr>\n",
       "  </thead>\n",
       "  <tbody>\n",
       "    <tr>\n",
       "      <th>426</th>\n",
       "      <td>427</td>\n",
       "      <td>30.460718</td>\n",
       "      <td>-97.792874</td>\n",
       "      <td>5</td>\n",
       "      <td>2021-04-05</td>\n",
       "      <td>Austin</td>\n",
       "      <td>TX 78750</td>\n",
       "      <td>Good food and good service</td>\n",
       "      <td>positive</td>\n",
       "    </tr>\n",
       "    <tr>\n",
       "      <th>463</th>\n",
       "      <td>464</td>\n",
       "      <td>30.460718</td>\n",
       "      <td>-97.792874</td>\n",
       "      <td>5</td>\n",
       "      <td>2024-04-05</td>\n",
       "      <td>Austin</td>\n",
       "      <td>TX 78750</td>\n",
       "      <td>Good</td>\n",
       "      <td>positive</td>\n",
       "    </tr>\n",
       "    <tr>\n",
       "      <th>470</th>\n",
       "      <td>471</td>\n",
       "      <td>30.460718</td>\n",
       "      <td>-97.792874</td>\n",
       "      <td>4</td>\n",
       "      <td>2024-04-05</td>\n",
       "      <td>Austin</td>\n",
       "      <td>TX 78750</td>\n",
       "      <td>Great service</td>\n",
       "      <td>positive</td>\n",
       "    </tr>\n",
       "    <tr>\n",
       "      <th>479</th>\n",
       "      <td>480</td>\n",
       "      <td>30.460718</td>\n",
       "      <td>-97.792874</td>\n",
       "      <td>3</td>\n",
       "      <td>2020-04-05</td>\n",
       "      <td>Austin</td>\n",
       "      <td>TX 78750</td>\n",
       "      <td>Fast</td>\n",
       "      <td>neutral</td>\n",
       "    </tr>\n",
       "    <tr>\n",
       "      <th>495</th>\n",
       "      <td>496</td>\n",
       "      <td>30.460718</td>\n",
       "      <td>-97.792874</td>\n",
       "      <td>4</td>\n",
       "      <td>2022-04-05</td>\n",
       "      <td>Austin</td>\n",
       "      <td>TX 78750</td>\n",
       "      <td>Great service</td>\n",
       "      <td>positive</td>\n",
       "    </tr>\n",
       "  </tbody>\n",
       "</table>\n",
       "</div>"
      ],
      "text/plain": [
       "     reviewer_id  latitude   longitude  rating review_date    City     State  \\\n",
       "426          427  30.460718 -97.792874       5  2021-04-05  Austin  TX 78750   \n",
       "463          464  30.460718 -97.792874       5  2024-04-05  Austin  TX 78750   \n",
       "470          471  30.460718 -97.792874       4  2024-04-05  Austin  TX 78750   \n",
       "479          480  30.460718 -97.792874       3  2020-04-05  Austin  TX 78750   \n",
       "495          496  30.460718 -97.792874       4  2022-04-05  Austin  TX 78750   \n",
       "\n",
       "                  clean_reviews actual_sentiment  \n",
       "426  Good food and good service         positive  \n",
       "463                        Good         positive  \n",
       "470               Great service         positive  \n",
       "479                        Fast          neutral  \n",
       "495               Great service         positive  "
      ]
     },
     "execution_count": 81,
     "metadata": {},
     "output_type": "execute_result"
    }
   ],
   "source": [
    "duplicates = df2[df2['clean_reviews'].duplicated()]\n",
    "print(f\"Total duplicate reviews: {duplicates.shape[0]}\")\n",
    "duplicates.head()\n"
   ]
  },
  {
   "cell_type": "code",
   "execution_count": 82,
   "metadata": {},
   "outputs": [
    {
     "name": "stdout",
     "output_type": "stream",
     "text": [
      "New dataset size: 21815\n"
     ]
    }
   ],
   "source": [
    "# Drop duplicates in the column\n",
    "df2 = df2.drop_duplicates(subset='clean_reviews')\n",
    "print(f\"New dataset size: {df2.shape[0]}\")"
   ]
  },
  {
   "cell_type": "markdown",
   "metadata": {},
   "source": [
    "### Save the clean dataset"
   ]
  },
  {
   "cell_type": "code",
   "execution_count": 83,
   "metadata": {},
   "outputs": [],
   "source": [
    "df2.to_csv('/teamspace/studios/this_studio/PROJECT_FINAL/mcdonalds_reviews/cleaned_data.csv',index=False)"
   ]
  }
 ],
 "metadata": {
  "language_info": {
   "name": "python"
  }
 },
 "nbformat": 4,
 "nbformat_minor": 2
}
